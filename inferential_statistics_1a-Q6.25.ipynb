{
 "cells": [
  {
   "cell_type": "markdown",
   "metadata": {},
   "source": [
    "# Inferential Statistics Ia - Frequentism"
   ]
  },
  {
   "cell_type": "markdown",
   "metadata": {},
   "source": [
    "## Learning objectives"
   ]
  },
  {
   "cell_type": "markdown",
   "metadata": {},
   "source": [
    "Welcome to the first Frequentist inference mini-project! Over the course of working on this mini-project and the next frequentist mini-project, you'll learn the fundamental concepts associated with frequentist inference. The following list includes the topics you will become familiar with as you work through these two mini-projects:\n",
    "* the _z_-statistic\n",
    "* the _t_-statistic\n",
    "* the difference and relationship between the two\n",
    "* the Central Limit Theorem, including its assumptions and consequences\n",
    "* how to estimate the population mean and standard deviation from a sample\n",
    "* the concept of a sampling distribution of a test statistic, particularly for the mean\n",
    "* how to combine these concepts to calculate a confidence interval"
   ]
  },
  {
   "cell_type": "markdown",
   "metadata": {},
   "source": [
    "## Prerequisites"
   ]
  },
  {
   "cell_type": "markdown",
   "metadata": {},
   "source": [
    "For working through this notebook, you are expected to have a very basic understanding of:\n",
    "* what a random variable is\n",
    "* what a probability density function (pdf) is\n",
    "* what the cumulative density function is\n",
    "* a high-level sense of what the Normal distribution\n",
    "\n",
    "If these concepts are new to you, please take a few moments to Google these topics in order to get a sense of what they are and how you might use them.\n",
    "\n",
    "While it's great if you have previous knowledge about sampling distributions, this assignment will introduce the concept and set you up to practice working using sampling distributions. This notebook was designed to bridge the gap between having a basic understanding of probability and random variables and being able to apply these concepts in Python. The second frequentist inference mini-project focuses on a real-world application of this type of inference to give you further practice using these concepts. "
   ]
  },
  {
   "cell_type": "markdown",
   "metadata": {},
   "source": [
    "For this notebook, we will use data sampled from a known normal distribution. This allows us to compare our results with theoretical expectations."
   ]
  },
  {
   "cell_type": "markdown",
   "metadata": {},
   "source": [
    "## I An introduction to sampling from the Normal distribution"
   ]
  },
  {
   "cell_type": "markdown",
   "metadata": {},
   "source": [
    "First, let's explore the ways we can generate the Normal distribution. While there's a fair amount of interest in [sklearn](https://scikit-learn.org/stable/) within the machine learning community, you're likely to have heard of [scipy](https://docs.scipy.org/doc/scipy-0.15.1/reference/index.html) if you're coming from the sciences. For this assignment, you'll use [scipy.stats](https://docs.scipy.org/doc/scipy-0.15.1/reference/tutorial/stats.html) to complete your work."
   ]
  },
  {
   "cell_type": "code",
   "execution_count": 1,
   "metadata": {},
   "outputs": [],
   "source": [
    "from scipy.stats import norm\n",
    "from scipy.stats import t\n",
    "import numpy as np\n",
    "import pandas as pd\n",
    "from numpy.random import seed\n",
    "import matplotlib.pyplot as plt"
   ]
  },
  {
   "cell_type": "markdown",
   "metadata": {},
   "source": [
    "__Q:__ Call up the documentation for the `norm` function imported above. What is the second listed method?"
   ]
  },
  {
   "cell_type": "code",
   "execution_count": 3,
   "metadata": {
    "scrolled": false
   },
   "outputs": [],
   "source": [
    "#help(norm)"
   ]
  },
  {
   "cell_type": "markdown",
   "metadata": {},
   "source": [
    "A: cdf(self, x, *args, **kwds) Cumulative distribution function of the given RV."
   ]
  },
  {
   "cell_type": "markdown",
   "metadata": {},
   "source": [
    "Q: Use the method that generates random variates to draw five samples from the standard normal distribution."
   ]
  },
  {
   "cell_type": "markdown",
   "metadata": {},
   "source": [
    "A:"
   ]
  },
  {
   "cell_type": "code",
   "execution_count": 44,
   "metadata": {},
   "outputs": [
    {
     "name": "stdout",
     "output_type": "stream",
     "text": [
      "[-0.84800948  1.30590636  0.92420797  0.6404118  -1.05473698]\n"
     ]
    }
   ],
   "source": [
    "seed(47)\n",
    "# draw five samples here\n",
    "new_sample = np.random.standard_normal(size=5)\n",
    "print(new_sample)"
   ]
  },
  {
   "cell_type": "markdown",
   "metadata": {},
   "source": [
    "__Q:__ What is the mean of this sample? Is it exactly equal to the value you expected? Hint: the sample was drawn from the standard normal distribution."
   ]
  },
  {
   "cell_type": "markdown",
   "metadata": {},
   "source": [
    "__A:__"
   ]
  },
  {
   "cell_type": "code",
   "execution_count": 45,
   "metadata": {},
   "outputs": [
    {
     "name": "stdout",
     "output_type": "stream",
     "text": [
      "0.19355593334131074\n"
     ]
    }
   ],
   "source": [
    "# Calculate and print the mean here, hint: use np.mean()\n",
    "mean_sample = np.mean(new_sample)\n",
    "print(mean_sample)"
   ]
  },
  {
   "cell_type": "markdown",
   "metadata": {},
   "source": [
    "__Q:__ What is the standard deviation of these numbers? Calculate this manually here as $\\sqrt{\\frac{\\sum_i(x_i - \\bar{x})^2}{n}}$. Hint: np.sqrt() and np.sum() will be useful here and remember that numpy supports [broadcasting](https://docs.scipy.org/doc/numpy/user/basics.broadcasting.html)."
   ]
  },
  {
   "cell_type": "markdown",
   "metadata": {},
   "source": [
    "__A:__"
   ]
  },
  {
   "cell_type": "code",
   "execution_count": 23,
   "metadata": {},
   "outputs": [
    {
     "name": "stdout",
     "output_type": "stream",
     "text": [
      "0.9606195639478641\n"
     ]
    }
   ],
   "source": [
    "std_by_hand = np.sqrt(np.sum((new_sample - mean_sample)**2)/len(new_sample))\n",
    "print(std_by_hand)"
   ]
  },
  {
   "cell_type": "markdown",
   "metadata": {},
   "source": [
    "Here we have calculated the actual standard deviation of a small (size 5) data set. But in this case, this small data set is actually a sample from our larger (infinite) population. In this case, the population is infinite because we could keep drawing our normal random variates until our computers die. In general, the sample mean we calculate will not be equal to the population mean (as we saw above). A consequence of this is that the sum of squares of the deviations from the _population_ mean will be bigger than the sum of squares of the deviations from the _sample_ mean. In other words, the sum of squares of the deviations from the _sample_ mean is too small to give an unbiased estimate of the _population_ variance. An example of this effect is given [here](https://en.wikipedia.org/wiki/Bessel%27s_correction#Source_of_bias). Scaling our estimate of the variance by the factor $n/(n-1)$ gives an unbiased estimator of the population variance. This factor is known as [Bessel's correction](https://en.wikipedia.org/wiki/Bessel%27s_correction). The consequence of this is that the $n$ in the denominator is replaced by $n-1$.\n",
    "\n",
    "__Q:__ If all we had to go on was our five samples, what would be our best estimate of the population standard deviation? Use Bessel's correction ($n-1$ in the denominator), thus $\\sqrt{\\frac{\\sum_i(x_i - \\bar{x})^2}{n-1}}$."
   ]
  },
  {
   "cell_type": "markdown",
   "metadata": {},
   "source": [
    "__A:__"
   ]
  },
  {
   "cell_type": "code",
   "execution_count": 24,
   "metadata": {},
   "outputs": [
    {
     "name": "stdout",
     "output_type": "stream",
     "text": [
      "1.0740053227518152\n"
     ]
    }
   ],
   "source": [
    "bessel_by_hand = np.sqrt(np.sum((new_sample - mean_sample)**2)/(len(new_sample)-1))\n",
    "print(bessel_by_hand)"
   ]
  },
  {
   "cell_type": "markdown",
   "metadata": {},
   "source": [
    "__Q:__ Now use numpy's std function to calculate the standard deviation of our random samples. Which of the above standard deviations did it return?"
   ]
  },
  {
   "cell_type": "markdown",
   "metadata": {},
   "source": [
    "A: standaard deviation NOT by Bessel"
   ]
  },
  {
   "cell_type": "code",
   "execution_count": 25,
   "metadata": {},
   "outputs": [
    {
     "name": "stdout",
     "output_type": "stream",
     "text": [
      "0.9606195639478641\n"
     ]
    }
   ],
   "source": [
    "std_auto = np.std(new_sample)\n",
    "print(std_auto)"
   ]
  },
  {
   "cell_type": "markdown",
   "metadata": {},
   "source": [
    "__Q:__ Consult the documentation for np.std() to see how to apply the correction for estimating the population parameter and verify this produces the expected result."
   ]
  },
  {
   "cell_type": "markdown",
   "metadata": {},
   "source": [
    "__A:__"
   ]
  },
  {
   "cell_type": "code",
   "execution_count": 27,
   "metadata": {},
   "outputs": [
    {
     "name": "stdout",
     "output_type": "stream",
     "text": [
      "Help on function std in module numpy:\n",
      "\n",
      "std(a, axis=None, dtype=None, out=None, ddof=0, keepdims=<no value>)\n",
      "    Compute the standard deviation along the specified axis.\n",
      "    \n",
      "    Returns the standard deviation, a measure of the spread of a distribution,\n",
      "    of the array elements. The standard deviation is computed for the\n",
      "    flattened array by default, otherwise over the specified axis.\n",
      "    \n",
      "    Parameters\n",
      "    ----------\n",
      "    a : array_like\n",
      "        Calculate the standard deviation of these values.\n",
      "    axis : None or int or tuple of ints, optional\n",
      "        Axis or axes along which the standard deviation is computed. The\n",
      "        default is to compute the standard deviation of the flattened array.\n",
      "    \n",
      "        .. versionadded:: 1.7.0\n",
      "    \n",
      "        If this is a tuple of ints, a standard deviation is performed over\n",
      "        multiple axes, instead of a single axis or all the axes as before.\n",
      "    dtype : dtype, optional\n",
      "        Type to use in computing the standard deviation. For arrays of\n",
      "        integer type the default is float64, for arrays of float types it is\n",
      "        the same as the array type.\n",
      "    out : ndarray, optional\n",
      "        Alternative output array in which to place the result. It must have\n",
      "        the same shape as the expected output but the type (of the calculated\n",
      "        values) will be cast if necessary.\n",
      "    ddof : int, optional\n",
      "        Means Delta Degrees of Freedom.  The divisor used in calculations\n",
      "        is ``N - ddof``, where ``N`` represents the number of elements.\n",
      "        By default `ddof` is zero.\n",
      "    keepdims : bool, optional\n",
      "        If this is set to True, the axes which are reduced are left\n",
      "        in the result as dimensions with size one. With this option,\n",
      "        the result will broadcast correctly against the input array.\n",
      "    \n",
      "        If the default value is passed, then `keepdims` will not be\n",
      "        passed through to the `std` method of sub-classes of\n",
      "        `ndarray`, however any non-default value will be.  If the\n",
      "        sub-class' method does not implement `keepdims` any\n",
      "        exceptions will be raised.\n",
      "    \n",
      "    Returns\n",
      "    -------\n",
      "    standard_deviation : ndarray, see dtype parameter above.\n",
      "        If `out` is None, return a new array containing the standard deviation,\n",
      "        otherwise return a reference to the output array.\n",
      "    \n",
      "    See Also\n",
      "    --------\n",
      "    var, mean, nanmean, nanstd, nanvar\n",
      "    numpy.doc.ufuncs : Section \"Output arguments\"\n",
      "    \n",
      "    Notes\n",
      "    -----\n",
      "    The standard deviation is the square root of the average of the squared\n",
      "    deviations from the mean, i.e., ``std = sqrt(mean(abs(x - x.mean())**2))``.\n",
      "    \n",
      "    The average squared deviation is normally calculated as\n",
      "    ``x.sum() / N``, where ``N = len(x)``.  If, however, `ddof` is specified,\n",
      "    the divisor ``N - ddof`` is used instead. In standard statistical\n",
      "    practice, ``ddof=1`` provides an unbiased estimator of the variance\n",
      "    of the infinite population. ``ddof=0`` provides a maximum likelihood\n",
      "    estimate of the variance for normally distributed variables. The\n",
      "    standard deviation computed in this function is the square root of\n",
      "    the estimated variance, so even with ``ddof=1``, it will not be an\n",
      "    unbiased estimate of the standard deviation per se.\n",
      "    \n",
      "    Note that, for complex numbers, `std` takes the absolute\n",
      "    value before squaring, so that the result is always real and nonnegative.\n",
      "    \n",
      "    For floating-point input, the *std* is computed using the same\n",
      "    precision the input has. Depending on the input data, this can cause\n",
      "    the results to be inaccurate, especially for float32 (see example below).\n",
      "    Specifying a higher-accuracy accumulator using the `dtype` keyword can\n",
      "    alleviate this issue.\n",
      "    \n",
      "    Examples\n",
      "    --------\n",
      "    >>> a = np.array([[1, 2], [3, 4]])\n",
      "    >>> np.std(a)\n",
      "    1.1180339887498949\n",
      "    >>> np.std(a, axis=0)\n",
      "    array([ 1.,  1.])\n",
      "    >>> np.std(a, axis=1)\n",
      "    array([ 0.5,  0.5])\n",
      "    \n",
      "    In single precision, std() can be inaccurate:\n",
      "    \n",
      "    >>> a = np.zeros((2, 512*512), dtype=np.float32)\n",
      "    >>> a[0, :] = 1.0\n",
      "    >>> a[1, :] = 0.1\n",
      "    >>> np.std(a)\n",
      "    0.45000005\n",
      "    \n",
      "    Computing the standard deviation in float64 is more accurate:\n",
      "    \n",
      "    >>> np.std(a, dtype=np.float64)\n",
      "    0.44999999925494177\n",
      "\n"
     ]
    }
   ],
   "source": [
    "help(np.std)"
   ]
  },
  {
   "cell_type": "code",
   "execution_count": null,
   "metadata": {},
   "outputs": [],
   "source": []
  },
  {
   "cell_type": "markdown",
   "metadata": {},
   "source": [
    "### Summary of section"
   ]
  },
  {
   "cell_type": "markdown",
   "metadata": {},
   "source": [
    "In this section, you've been introduced to the scipy.stats package and used it to draw a small sample from the standard normal distribution. You've calculated the average (the mean) of this sample and seen that this is not exactly equal to the expected population parameter (which we know because we're generating the random variates from a specific, known distribution). You've been introduced to two ways of calculating the standard deviation; one uses $n$ in the denominator and the other uses $n-1$ (Bessel's correction). You've also seen which of these calculations np.std() performs by default and how to get it to generate the other."
   ]
  },
  {
   "cell_type": "markdown",
   "metadata": {},
   "source": [
    "You use $n$ as the denominator if you want to calculate the standard deviation of a sequence of numbers. You use $n-1$ if you are using this sequence of numbers to estimate the population parameter. This brings us to some terminology that can be a little confusing.\n",
    "\n",
    "The population parameter is traditionally written as $\\sigma$ and the sample statistic as $s$. Rather unhelpfully, $s$ is also called the sample standard deviation (using $n-1$) whereas the standard deviation of the sample uses $n$. That's right, we have the sample standard deviation and the standard deviation of the sample and they're not the same thing!\n",
    "\n",
    "The sample standard deviation\n",
    "\\begin{equation}\n",
    "s = \\sqrt{\\frac{\\sum_i(x_i - \\bar{x})^2}{n-1}} \\approx \\sigma,\n",
    "\\end{equation}\n",
    "is our best (unbiased) estimate of the population parameter ($\\sigma$).\n",
    "\n",
    "If your data set _is_ your entire population, you simply want to calculate the population parameter, $\\sigma$, via\n",
    "\\begin{equation}\n",
    "\\sigma = \\sqrt{\\frac{\\sum_i(x_i - \\bar{x})^2}{n}}\n",
    "\\end{equation}\n",
    "as you have complete, full knowledge of your population. In other words, your sample _is_ your population. It's worth noting at this point if your sample is your population then you know absolutely everything about your population, there are no probabilities really to calculate and no inference to be done.\n",
    "\n",
    "If, however, you have sampled _from_ your population, you only have partial knowledge of the state of your population and the standard deviation of your sample is not an unbiased estimate of the standard deviation of the population, in which case you seek to estimate that population parameter via the sample standard deviation, which uses the $n-1$ denominator."
   ]
  },
  {
   "cell_type": "markdown",
   "metadata": {},
   "source": [
    "You're now firmly in frequentist theory territory. Great work so far! Now let's dive deeper."
   ]
  },
  {
   "cell_type": "markdown",
   "metadata": {},
   "source": [
    "## II Sampling distributions"
   ]
  },
  {
   "cell_type": "markdown",
   "metadata": {},
   "source": [
    "So far we've been dealing with the concept of taking a sample from a population to infer the population parameters. One statistic we calculated for a sample was the mean. As our samples will be expected to vary from one draw to another, so will our sample statistics. If we were to perform repeat draws of size $n$ and calculate the mean of each, we would expect to obtain a distribution of values. This is the sampling distribution of the mean. The Central Limit Theorem (CLT) tells us that such a distribution will approach a normal distribution as $n$ increases. For the sampling distribution of the mean, the standard deviation of this distribution is given by\n",
    "\n",
    "\\begin{equation}\n",
    "\\sigma_{mean} = \\frac{\\sigma}{\\sqrt n}\n",
    "\\end{equation}\n",
    "\n",
    "where $\\sigma_{mean}$ is the standard deviation of the sampling distribution of the mean and $\\sigma$ is the standard deviation of the population (the population parameter)."
   ]
  },
  {
   "cell_type": "markdown",
   "metadata": {},
   "source": [
    "This is important because typically we are dealing with samples from populations and all we know about the population is what we see in the sample. From this sample, we want to make inferences about the population. We may do this, for example, by looking at the histogram of the values and by calculating the mean and standard deviation (as estimates of the population parameters), and so we are intrinsically interested in how these quantities vary across samples. In other words, now that we've taken one sample of size $n$ and made some claims about the general population, what if we were to take another sample of size $n$? Would we get the same result? Would we make the same claims about the general population? This brings us to a fundamental question: _when we make some inference about a population based on our sample, how confident can we be that we've got it 'right'?_"
   ]
  },
  {
   "cell_type": "markdown",
   "metadata": {},
   "source": [
    "Let's give our normal distribution a little flavor. Also, for didactic purposes, the standard normal distribution, with its variance equal to its standard deviation of one, would not be a great illustration of a key point. Let us imagine we live in a town of 50000 people and we know the height of everyone in this town. We will have 50000 numbers that tell us everything about our population. We'll simulate these numbers now and put ourselves in one particular town, called 'town 47', where the population mean height is 172 cm and population standard deviation is 5 cm."
   ]
  },
  {
   "cell_type": "code",
   "execution_count": 28,
   "metadata": {},
   "outputs": [],
   "source": [
    "seed(47)\n",
    "pop_heights = norm.rvs(172, 5, size=50000)"
   ]
  },
  {
   "cell_type": "code",
   "execution_count": 29,
   "metadata": {},
   "outputs": [
    {
     "data": {
      "image/png": "[encoded data removed]",
      "text/plain": [
       "<Figure size 432x288 with 1 Axes>"
      ]
     },
     "metadata": {
      "needs_background": "light"
     },
     "output_type": "display_data"
    }
   ],
   "source": [
    "_ = plt.hist(pop_heights, bins=30)\n",
    "_ = plt.xlabel('height (cm)')\n",
    "_ = plt.ylabel('number of people')\n",
    "_ = plt.title('Distribution of heights in entire town population')\n",
    "_ = plt.axvline(172, color='r')\n",
    "_ = plt.axvline(172+5, color='r', linestyle='--')\n",
    "_ = plt.axvline(172-5, color='r', linestyle='--')\n",
    "_ = plt.axvline(172+10, color='r', linestyle='-.')\n",
    "_ = plt.axvline(172-10, color='r', linestyle='-.')"
   ]
  },
  {
   "cell_type": "markdown",
   "metadata": {},
   "source": [
    "Now, 50000 people is rather a lot to chase after with a tape measure. If all you want to know is the average height of the townsfolk, then can you just go out and measure a sample to get a pretty good estimate of the average height?"
   ]
  },
  {
   "cell_type": "code",
   "execution_count": 30,
   "metadata": {},
   "outputs": [],
   "source": [
    "def townsfolk_sampler(n):\n",
    "    return np.random.choice(pop_heights, n)"
   ]
  },
  {
   "cell_type": "markdown",
   "metadata": {},
   "source": [
    "Let's say you go out one day and randomly sample 10 people to measure."
   ]
  },
  {
   "cell_type": "code",
   "execution_count": 31,
   "metadata": {},
   "outputs": [],
   "source": [
    "seed(47)\n",
    "daily_sample1 = townsfolk_sampler(10)"
   ]
  },
  {
   "cell_type": "code",
   "execution_count": 32,
   "metadata": {},
   "outputs": [
    {
     "data": {
      "image/png": "[encoded data removed]",
      "text/plain": [
       "<Figure size 432x288 with 1 Axes>"
      ]
     },
     "metadata": {
      "needs_background": "light"
     },
     "output_type": "display_data"
    }
   ],
   "source": [
    "_ = plt.hist(daily_sample1, bins=10)\n",
    "_ = plt.xlabel('height (cm)')\n",
    "_ = plt.ylabel('number of people')\n",
    "_ = plt.title('Distribution of heights in sample size 10')"
   ]
  },
  {
   "cell_type": "markdown",
   "metadata": {},
   "source": [
    "The sample distribution doesn't look much like what we know (but wouldn't know in real-life) the population distribution looks like. What do we get for the mean?"
   ]
  },
  {
   "cell_type": "code",
   "execution_count": null,
   "metadata": {},
   "outputs": [],
   "source": []
  },
  {
   "cell_type": "code",
   "execution_count": 33,
   "metadata": {},
   "outputs": [
    {
     "data": {
      "text/plain": [
       "173.47911444163503"
      ]
     },
     "execution_count": 33,
     "metadata": {},
     "output_type": "execute_result"
    }
   ],
   "source": [
    "np.mean(daily_sample1)"
   ]
  },
  {
   "cell_type": "markdown",
   "metadata": {},
   "source": [
    "And if we went out and repeated this experiment?"
   ]
  },
  {
   "cell_type": "code",
   "execution_count": 34,
   "metadata": {},
   "outputs": [],
   "source": [
    "daily_sample2 = townsfolk_sampler(10)"
   ]
  },
  {
   "cell_type": "code",
   "execution_count": 35,
   "metadata": {},
   "outputs": [
    {
     "data": {
      "text/plain": [
       "173.7317666636263"
      ]
     },
     "execution_count": 35,
     "metadata": {},
     "output_type": "execute_result"
    }
   ],
   "source": [
    "np.mean(daily_sample2)"
   ]
  },
  {
   "cell_type": "markdown",
   "metadata": {},
   "source": [
    "__Q:__ Simulate performing this random trial every day for a year, calculating the mean of each daily sample of 10, and plot the resultant sampling distribution of the mean."
   ]
  },
  {
   "cell_type": "markdown",
   "metadata": {},
   "source": [
    "__A:__"
   ]
  },
  {
   "cell_type": "code",
   "execution_count": null,
   "metadata": {},
   "outputs": [],
   "source": []
  },
  {
   "cell_type": "code",
   "execution_count": 46,
   "metadata": {},
   "outputs": [],
   "source": [
    "seed(47)\n",
    "# take your samples here\n",
    "daily_sample_10 =[]\n",
    "for i in range(365):\n",
    "    daily_sample_10.append(townsfolk_sampler(10))"
   ]
  },
  {
   "cell_type": "code",
   "execution_count": 47,
   "metadata": {},
   "outputs": [
    {
     "name": "stdout",
     "output_type": "stream",
     "text": [
      "[array([179.04949004, 168.54189384, 181.71974048, 176.56433733,\n",
      "       165.91968052, 170.65629646, 179.37664509, 166.40103988,\n",
      "       177.15105034, 169.41097044]), array([169.96353026, 175.15960886, 177.08203296, 175.57499516,\n",
      "       174.54290109, 172.47967099, 168.61822612, 174.73274884,\n",
      "       170.88926244, 178.27468993]), array([171.52874629, 173.48970606, 172.0752456 , 172.29707499,\n",
      "       171.58202648, 169.84480352, 178.67104246, 174.28346436,\n",
      "       174.29645483, 167.42082214]), array([168.57939161, 169.54392578, 167.58621293, 176.8657094 ,\n",
      "       164.25755366, 177.38929575, 171.97964488, 164.94136054,\n",
      "       177.90675289, 175.2758845 ]), array([176.64336688, 169.68013675, 175.41851966, 171.9408919 ,\n",
      "       179.69843965, 169.93651872, 169.3320981 , 172.17010876,\n",
      "       171.18783138, 171.14370134]), array([180.93666246, 175.34724087, 170.08526874, 171.32458621,\n",
      "       180.93239788, 165.67453767, 176.64433942, 166.25630226,\n",
      "       175.05662417, 166.02199127]), array([177.37433824, 172.93348602, 167.44332374, 157.05217787,\n",
      "       172.30911579, 173.76677924, 170.22857225, 174.54300725,\n",
      "       185.49144857, 176.06821304]), array([177.1351342 , 170.09856228, 171.25876529, 172.71571045,\n",
      "       172.28393492, 172.69170736, 170.84130715, 164.3879145 ,\n",
      "       174.11482728, 168.04056171]), array([169.37842752, 166.10412796, 171.5726052 , 175.53420154,\n",
      "       172.8424457 , 178.82187278, 173.44046144, 170.11633526,\n",
      "       173.68549182, 169.11232234]), array([177.23667121, 171.92062004, 175.03222798, 179.51217692,\n",
      "       176.73691159, 172.47744193, 176.42337248, 179.48828182,\n",
      "       165.5436124 , 175.84030021]), array([171.46947581, 175.02242568, 172.26639306, 174.81410362,\n",
      "       175.57469989, 174.46510872, 165.86782306, 176.75137426,\n",
      "       168.83341585, 173.66492434]), array([169.67824502, 174.77573145, 171.10276199, 175.19964412,\n",
      "       173.45733403, 176.68444503, 169.54111033, 178.15978802,\n",
      "       172.25304676, 170.21746425]), array([179.73393156, 176.6347242 , 163.46494353, 176.13039248,\n",
      "       179.50507804, 168.126105  , 168.31025258, 180.66859484,\n",
      "       177.54859437, 172.70251534]), array([175.77670309, 176.04934022, 166.08290563, 175.26843288,\n",
      "       173.13969049, 171.61590367, 163.95222449, 171.40343973,\n",
      "       172.34626162, 176.04503945]), array([173.97335364, 172.48415767, 167.83334577, 167.05537148,\n",
      "       170.63760058, 171.32741871, 179.85870929, 175.82331501,\n",
      "       170.97515787, 172.70873628]), array([173.35796569, 173.12071474, 175.56755332, 173.69034892,\n",
      "       174.56065033, 177.25841003, 173.19545625, 170.78738231,\n",
      "       170.92193353, 178.6883444 ]), array([172.64476444, 169.84349744, 183.02348988, 180.63578368,\n",
      "       169.57085663, 177.78771243, 172.43564744, 165.52510574,\n",
      "       172.55580838, 173.67629001]), array([173.54397414, 179.51415489, 167.47693935, 173.31616347,\n",
      "       176.09849759, 172.82084637, 180.32564627, 171.84828781,\n",
      "       175.07976039, 165.33449589]), array([171.40530266, 165.02592261, 175.04471665, 175.70879278,\n",
      "       179.50123793, 166.90169428, 171.90695538, 172.38535079,\n",
      "       168.58886398, 170.84212659]), array([179.15695065, 175.11417119, 171.53023499, 167.7774168 ,\n",
      "       180.35037186, 175.41210247, 168.57586347, 172.46932371,\n",
      "       174.88521441, 170.92128395]), array([166.45092394, 176.38694397, 179.11216169, 168.81296691,\n",
      "       167.80468903, 171.58022282, 172.2089581 , 170.47508483,\n",
      "       169.09620696, 172.19454497]), array([172.07822294, 170.08862276, 157.40641716, 168.21056085,\n",
      "       172.64080787, 169.709928  , 175.57179487, 169.24325642,\n",
      "       171.53357447, 172.42943752]), array([177.16186307, 169.70267062, 163.07904945, 172.50096227,\n",
      "       168.85709077, 174.52613839, 174.226171  , 168.3214524 ,\n",
      "       174.16386479, 172.54624369]), array([167.28597258, 174.3279084 , 172.65477353, 167.96943234,\n",
      "       171.74929567, 171.32425485, 167.30754168, 168.89460687,\n",
      "       174.22129336, 172.24263096]), array([182.83088415, 168.42902831, 175.19053157, 161.62997686,\n",
      "       171.45703665, 169.39180955, 176.56832484, 173.6840928 ,\n",
      "       164.6772048 , 177.47046961]), array([178.00796132, 173.89802512, 171.17611488, 177.86394999,\n",
      "       180.31022772, 170.00973794, 174.36335017, 172.69142265,\n",
      "       173.03662379, 169.06638306]), array([163.00161135, 178.18193433, 179.78225183, 170.61773174,\n",
      "       173.85308876, 163.83037677, 174.70773858, 171.28144017,\n",
      "       176.02594476, 162.88785296]), array([162.95016299, 161.80894142, 168.90917519, 184.63527675,\n",
      "       167.34326183, 170.96577392, 167.7774227 , 176.57961579,\n",
      "       168.41785138, 167.48763914]), array([174.08209956, 176.51111922, 162.29245696, 173.21529793,\n",
      "       163.0757331 , 177.61143403, 168.29160302, 165.91041494,\n",
      "       170.9720019 , 175.05173727]), array([174.08609486, 173.44498923, 167.6181147 , 173.14778113,\n",
      "       164.13955553, 171.33238663, 164.27087634, 175.78829314,\n",
      "       170.00610772, 171.19468296]), array([166.43073511, 169.92615398, 175.41131908, 170.36902   ,\n",
      "       169.67238029, 170.57067231, 172.9789709 , 163.78071186,\n",
      "       174.6672528 , 177.42011948]), array([172.26468906, 164.43784979, 170.62111584, 162.83471312,\n",
      "       166.35686251, 184.7844971 , 171.60968627, 177.64590661,\n",
      "       180.5688627 , 170.69430837]), array([174.88372066, 174.90231041, 176.31172858, 172.64235659,\n",
      "       180.50415841, 165.14954632, 171.14269536, 172.93206387,\n",
      "       169.66891539, 168.75707906]), array([172.32832403, 171.9777489 , 171.26509335, 170.25177765,\n",
      "       172.34546737, 171.69820435, 163.72954351, 171.25719341,\n",
      "       176.3124546 , 168.83519773]), array([165.37757536, 174.0979423 , 168.22256788, 171.49208283,\n",
      "       166.74714933, 168.23281529, 166.28819728, 174.75454148,\n",
      "       171.4820716 , 182.25017131]), array([171.20831532, 179.45106217, 179.50590375, 168.42139748,\n",
      "       171.05084522, 163.09565693, 171.83409756, 174.58494646,\n",
      "       166.94221555, 164.80758925]), array([173.90745885, 171.02809105, 174.87960765, 175.46090661,\n",
      "       170.83368204, 180.82483075, 161.57736023, 170.70022149,\n",
      "       162.84374148, 170.49746085]), array([174.66068745, 163.88136639, 169.46452164, 180.78986984,\n",
      "       169.13002774, 168.47324093, 172.41424767, 173.01805181,\n",
      "       172.57932509, 176.668446  ]), array([165.72421444, 172.44852739, 171.75230196, 174.01457355,\n",
      "       175.93255618, 167.32085668, 171.79146656, 167.54952602,\n",
      "       176.40725741, 167.94142116]), array([171.08555598, 167.19622248, 176.42736358, 173.9667755 ,\n",
      "       176.85935315, 173.2288197 , 172.54473419, 169.19178043,\n",
      "       172.3381969 , 173.67472931]), array([184.24671375, 167.97501022, 164.27673881, 174.67456571,\n",
      "       180.7814239 , 171.10345404, 173.16269607, 181.67609166,\n",
      "       179.95284074, 172.85736316]), array([166.14227503, 172.39535712, 168.56119151, 160.62373174,\n",
      "       174.53965313, 167.33106119, 169.95524816, 176.88827025,\n",
      "       168.09528601, 175.22769027]), array([174.99523528, 173.90290893, 173.12736015, 182.3489438 ,\n",
      "       170.91165221, 164.35658537, 169.55059742, 174.93658619,\n",
      "       171.00692802, 167.66087747]), array([174.10721296, 161.30467474, 170.97538823, 165.02730536,\n",
      "       171.37631202, 167.06932753, 165.45425102, 170.98948619,\n",
      "       172.73211249, 177.76405561]), array([168.22891436, 168.78546886, 175.22256755, 168.22795209,\n",
      "       174.07433871, 170.40687265, 181.52432131, 175.76721816,\n",
      "       172.44039328, 173.36288625]), array([175.14649194, 175.31536614, 169.58679812, 163.05764966,\n",
      "       176.91746487, 168.58704123, 172.22374693, 175.89924891,\n",
      "       181.8133355 , 166.97579875]), array([163.04217485, 175.3167557 , 169.76608018, 179.61072751,\n",
      "       178.44982   , 179.26455539, 173.85529299, 181.02343531,\n",
      "       167.16594928, 170.81062064]), array([176.65151565, 174.21584313, 173.86494932, 180.77804436,\n",
      "       171.61962126, 177.1165642 , 169.85679515, 168.73071312,\n",
      "       174.84322391, 166.07961352]), array([176.88551009, 173.43047824, 178.09397257, 170.79420918,\n",
      "       171.49894203, 166.74143489, 170.17810659, 164.13423673,\n",
      "       182.08930504, 165.08974021]), array([169.60902604, 166.15141108, 173.68306648, 167.57462563,\n",
      "       167.36049946, 173.20583939, 177.06658262, 180.50940474,\n",
      "       167.94672815, 173.55855861]), array([173.15168497, 174.15835369, 165.45191412, 170.75288367,\n",
      "       162.9720647 , 174.31037338, 170.18917919, 163.31436287,\n",
      "       175.32662642, 169.37730087]), array([178.21060745, 168.3989411 , 178.28653722, 178.36939524,\n",
      "       171.69069455, 167.83079276, 171.05166105, 171.05116123,\n",
      "       171.33839429, 171.07025333]), array([168.79817314, 164.71406328, 169.25730355, 170.68934747,\n",
      "       169.41179346, 178.91766785, 163.50551611, 171.36548716,\n",
      "       169.71567045, 168.22928551]), array([174.45072943, 169.04148389, 167.13559842, 172.77096081,\n",
      "       168.60237843, 176.50424654, 170.70158735, 183.04688195,\n",
      "       168.55235316, 168.26066349]), array([172.36634499, 171.92562038, 172.92111996, 171.57839772,\n",
      "       179.04456911, 173.10443946, 179.43838927, 175.14145367,\n",
      "       177.65778346, 169.92433244]), array([171.32522554, 176.85381764, 178.16334837, 176.56359648,\n",
      "       166.67194392, 160.43695865, 170.80682728, 168.85680303,\n",
      "       174.2788155 , 185.59190018]), array([172.65859457, 171.47741906, 176.06793103, 175.32461046,\n",
      "       169.35663812, 169.66261322, 167.74743374, 171.31585063,\n",
      "       168.19253429, 160.79772212]), array([167.87044086, 170.01553416, 174.34799925, 170.93509338,\n",
      "       178.1957457 , 170.82972753, 170.3025968 , 170.6302772 ,\n",
      "       171.79535311, 171.35547278]), array([173.78420614, 177.64822182, 167.36713112, 173.94162468,\n",
      "       173.60274343, 167.61772421, 169.744636  , 171.7313002 ,\n",
      "       171.64882444, 172.24236937]), array([170.09834875, 166.1309016 , 165.91846137, 174.02508206,\n",
      "       175.0827081 , 168.01956397, 181.21791084, 177.60133946,\n",
      "       174.24216985, 174.37429632]), array([183.94510449, 175.3854063 , 170.92286179, 186.56955505,\n",
      "       167.74406694, 175.17686561, 167.46887266, 165.39441378,\n",
      "       174.08813104, 166.86077582]), array([164.90917267, 174.05792769, 178.20562473, 163.18341032,\n",
      "       176.62947605, 171.73758829, 171.31288932, 179.53652448,\n",
      "       171.99131726, 164.3649927 ]), array([177.19061135, 172.84955949, 171.3202493 , 172.07300603,\n",
      "       167.91909038, 174.04029962, 176.68986086, 177.87726246,\n",
      "       178.4321355 , 171.80755806]), array([164.85070965, 167.23126475, 173.67051802, 170.93043563,\n",
      "       174.48773733, 168.68328317, 164.98485027, 167.9848267 ,\n",
      "       167.92229469, 166.3066901 ]), array([172.09472139, 177.61046218, 175.50327318, 165.03927046,\n",
      "       169.90186966, 173.33288653, 173.95603631, 173.29834842,\n",
      "       184.71031082, 178.84436598]), array([173.64340244, 186.29373336, 170.44128074, 175.54537492,\n",
      "       163.42490876, 178.24311366, 176.12741009, 168.27810837,\n",
      "       167.6053299 , 170.37563666]), array([162.70560652, 178.39216022, 169.3371005 , 162.23616338,\n",
      "       168.22795209, 179.25451417, 169.87669814, 178.00948727,\n",
      "       161.48404041, 169.04424005]), array([167.1305095 , 171.45229011, 166.63952032, 180.23486611,\n",
      "       174.72026909, 173.61519086, 168.19695151, 172.20961487,\n",
      "       157.66053451, 173.24747561]), array([170.01770724, 171.44847388, 168.15706375, 167.27628007,\n",
      "       173.38367661, 171.19704181, 160.66290957, 173.05344539,\n",
      "       172.37614792, 171.45941434]), array([163.08258813, 167.44575544, 175.38108565, 174.56549039,\n",
      "       171.49696176, 174.64361998, 175.32075829, 161.54258592,\n",
      "       170.26912352, 167.77442694]), array([165.65857239, 168.58316795, 172.27693016, 172.9048512 ,\n",
      "       171.75477202, 176.08181192, 171.79535311, 175.6174747 ,\n",
      "       166.6689595 , 175.64281677]), array([174.06124644, 164.21307349, 172.39462306, 170.33463195,\n",
      "       171.75504579, 172.99432843, 175.35100318, 168.0213362 ,\n",
      "       177.82634697, 174.29592862]), array([175.58703819, 177.66656355, 162.61951347, 174.34246175,\n",
      "       162.7800965 , 160.97738011, 175.05481108, 170.07795792,\n",
      "       178.53943526, 169.74816355]), array([166.37496277, 166.77056428, 178.61367785, 167.58520332,\n",
      "       167.39361028, 168.68985911, 171.52289113, 169.43275891,\n",
      "       173.19927678, 164.60114335]), array([177.01424801, 170.11797017, 168.14512428, 170.93881905,\n",
      "       168.6977049 , 178.60235434, 163.21595156, 178.21651975,\n",
      "       170.47400027, 183.58994644]), array([173.82290105, 171.36249176, 166.13113944, 167.94013497,\n",
      "       176.29518767, 175.86648952, 175.65609626, 172.81560004,\n",
      "       178.78990282, 174.81971623]), array([172.25909198, 163.33580291, 176.79289401, 179.30981745,\n",
      "       168.76760887, 170.93316491, 179.17834005, 164.24228865,\n",
      "       177.88069341, 170.44118351]), array([167.49786809, 169.64357288, 175.82430094, 169.9162596 ,\n",
      "       170.61897422, 164.08827896, 175.54045066, 179.71254679,\n",
      "       164.77792367, 171.88062732]), array([166.88967247, 172.27409421, 165.94899258, 175.75093476,\n",
      "       168.76342218, 157.75089519, 169.43205954, 168.47289903,\n",
      "       169.13190417, 171.61118927]), array([171.62467515, 168.01067397, 165.66676119, 166.29670641,\n",
      "       169.76994935, 173.46319467, 171.23508007, 165.91024354,\n",
      "       160.72698109, 179.66978233]), array([165.88805121, 172.24976934, 171.33010586, 168.50011855,\n",
      "       164.54533542, 166.98151762, 171.67352072, 178.53636301,\n",
      "       161.09084839, 169.04390067]), array([168.54189384, 171.18621162, 173.49037543, 179.08527353,\n",
      "       166.75524579, 171.56496636, 169.18361358, 160.81342473,\n",
      "       174.24166309, 167.63503616]), array([178.2873789 , 169.97270883, 170.38918091, 167.84024405,\n",
      "       168.44864818, 175.18307778, 170.73261088, 173.9258192 ,\n",
      "       170.15445689, 177.95256258]), array([167.82901002, 162.22450089, 180.35686994, 166.3121768 ,\n",
      "       168.87425005, 166.62684922, 175.13658998, 159.45740205,\n",
      "       172.84584029, 175.29141179]), array([179.23354622, 170.926354  , 174.26458591, 174.02209019,\n",
      "       165.90964807, 176.76423108, 171.27299054, 173.02638833,\n",
      "       167.97667433, 168.00830547]), array([172.55862648, 171.95677243, 174.13300842, 174.1865086 ,\n",
      "       171.17280379, 170.52604978, 166.54628371, 164.0192727 ,\n",
      "       176.19783495, 165.00582637]), array([177.71292484, 173.3304186 , 168.17172177, 172.285532  ,\n",
      "       166.95442369, 171.64744022, 175.99921838, 172.35424059,\n",
      "       160.7975257 , 168.89161205]), array([179.20078699, 171.42782188, 167.07873293, 167.05543489,\n",
      "       178.09318661, 179.68883008, 169.48734549, 175.72320531,\n",
      "       172.31623157, 167.49243468]), array([167.11213568, 162.4712912 , 173.65745377, 176.04071385,\n",
      "       176.04235785, 170.13718059, 174.70367589, 169.7798332 ,\n",
      "       176.44276149, 176.319646  ]), array([175.8626144 , 172.52459   , 169.66784815, 168.63163868,\n",
      "       173.93510044, 178.13863522, 172.95407279, 174.19753321,\n",
      "       170.15251095, 171.44565652]), array([168.02233441, 167.02586383, 168.30969013, 171.02795457,\n",
      "       169.19024448, 169.88150652, 165.41101135, 170.37961024,\n",
      "       178.57816824, 175.10735865]), array([169.99536485, 165.92166462, 175.31944373, 171.95696523,\n",
      "       169.08078717, 161.88693468, 179.24017888, 177.65512518,\n",
      "       176.89590983, 165.79881881]), array([165.60519754, 172.01242324, 174.86110008, 182.36097033,\n",
      "       168.34484398, 168.16297092, 170.03766805, 167.83413119,\n",
      "       172.69960519, 170.06349524]), array([177.59188992, 181.59517856, 172.83393304, 172.96723376,\n",
      "       165.4281005 , 169.70172985, 172.24955126, 176.96330128,\n",
      "       175.80185779, 191.65006785]), array([168.47169917, 162.28986245, 172.61950827, 171.33060541,\n",
      "       184.94118724, 160.84667986, 182.87660213, 157.0773168 ,\n",
      "       171.45358996, 167.92752595]), array([169.91752301, 173.73198135, 170.62928263, 171.51804341,\n",
      "       166.63607019, 166.52864117, 174.21891403, 175.91039828,\n",
      "       177.01656907, 173.65435658]), array([181.57557422, 174.28932097, 163.67808421, 176.30216799,\n",
      "       162.12728654, 176.94052498, 164.7207539 , 172.47063256,\n",
      "       162.04315908, 171.45384828]), array([171.40105364, 176.36865714, 179.1923725 , 165.7227552 ,\n",
      "       173.82040108, 167.78666572, 173.40791734, 161.22034893,\n",
      "       174.80792212, 171.36289317]), array([183.51248695, 171.39233344, 170.60473484, 176.79378256,\n",
      "       167.11571792, 171.51315721, 178.5726056 , 168.77939889,\n",
      "       165.81614776, 173.47086879]), array([175.7037668 , 176.20690645, 170.63801552, 174.25449772,\n",
      "       170.15661631, 173.12199212, 175.31693198, 174.16383736,\n",
      "       170.71935405, 171.81319653]), array([173.16100244, 169.00508283, 176.55750702, 174.14208493,\n",
      "       170.76916885, 176.33006269, 172.85536807, 166.57416414,\n",
      "       169.89147796, 171.77942038]), array([170.65155637, 172.90326541, 174.84220814, 173.49888068,\n",
      "       169.62906431, 171.8428963 , 172.97732529, 177.05792942,\n",
      "       179.72396897, 168.35417626]), array([167.29442032, 163.8743225 , 165.90333828, 172.3853408 ,\n",
      "       178.15978802, 166.40368667, 172.93368024, 165.36895354,\n",
      "       171.3639879 , 177.3813453 ]), array([167.71620043, 170.74043221, 175.63583272, 175.63941969,\n",
      "       177.09253467, 177.38034645, 172.94668148, 164.21307349,\n",
      "       180.30341189, 172.08990999]), array([167.765422  , 166.59585005, 172.83076245, 171.67521852,\n",
      "       183.71423922, 168.64193947, 170.21690129, 175.23064204,\n",
      "       175.06714225, 169.65515217]), array([169.02602519, 166.38079295, 161.11927582, 174.65455785,\n",
      "       173.61905488, 167.09954227, 174.99047114, 174.50619917,\n",
      "       169.19810348, 166.21858737]), array([177.5497095 , 178.23140641, 177.09764432, 169.03676182,\n",
      "       170.3916788 , 165.6722922 , 173.78612187, 176.42628368,\n",
      "       175.49585425, 171.50630891]), array([170.95994061, 178.86103142, 175.279689  , 167.32482939,\n",
      "       174.91357132, 169.00997244, 177.23313116, 163.35038386,\n",
      "       169.03113236, 160.5296377 ]), array([179.88067778, 169.68129986, 174.36546267, 171.4814628 ,\n",
      "       178.50046017, 177.87301903, 164.84372342, 173.97939515,\n",
      "       166.59395135, 172.10315455]), array([168.50671263, 163.40721707, 178.57581452, 175.91943745,\n",
      "       171.57911428, 172.15165906, 176.02010455, 166.5834695 ,\n",
      "       170.41986289, 172.43570202]), array([165.37410614, 170.08048404, 177.50064845, 183.02791647,\n",
      "       173.77946802, 167.76241744, 169.34749938, 178.99496615,\n",
      "       173.50560723, 159.85735852]), array([177.11140607, 170.35770808, 163.46345153, 172.57377809,\n",
      "       177.40165677, 180.59029652, 178.14774461, 175.28660147,\n",
      "       170.99127873, 170.52160154]), array([166.72699881, 171.15511881, 167.99551588, 176.58698877,\n",
      "       172.39679403, 175.26344618, 170.34744135, 179.44180603,\n",
      "       173.74832677, 166.06066274]), array([163.1129356 , 167.34027278, 170.14642831, 169.10648781,\n",
      "       175.6720424 , 175.6228534 , 165.314605  , 178.61186138,\n",
      "       174.80279995, 174.40900761]), array([175.34626574, 165.80167991, 167.18942421, 177.04220855,\n",
      "       171.94798349, 175.77993632, 173.61073827, 176.51747464,\n",
      "       173.57517315, 174.15393157]), array([164.63035289, 169.88203169, 174.43518254, 171.97231539,\n",
      "       173.99025691, 172.89599127, 169.74102302, 165.71411227,\n",
      "       177.03390571, 175.61260411]), array([170.92226706, 172.87015551, 173.00040526, 175.32956311,\n",
      "       173.75266339, 174.98227988, 165.25624287, 176.58991227,\n",
      "       162.07179629, 175.4827168 ]), array([173.91465437, 168.57112525, 171.07516216, 172.23673243,\n",
      "       166.10233184, 172.17010876, 177.87552473, 172.60811506,\n",
      "       173.57788743, 174.02920809]), array([172.73648038, 173.19456668, 176.30023258, 173.72456629,\n",
      "       181.78732509, 165.34317568, 174.54285307, 171.35796897,\n",
      "       166.9693717 , 164.11539417]), array([173.10642588, 166.24567139, 171.39686121, 172.66568833,\n",
      "       176.11912782, 169.51754993, 183.20334777, 173.63461585,\n",
      "       178.53144136, 158.93924062]), array([174.70548579, 169.11387258, 164.82863578, 174.61362994,\n",
      "       174.37901662, 173.3196753 , 171.13060969, 175.78770666,\n",
      "       169.4397018 , 162.96814774]), array([179.68947404, 170.42215494, 175.01200533, 171.32395945,\n",
      "       171.6550088 , 171.35001149, 164.11353308, 176.33465123,\n",
      "       171.24659046, 182.58357711]), array([173.98903308, 174.56406807, 169.31056172, 175.23986136,\n",
      "       178.28948518, 172.52012108, 172.3540408 , 169.06607786,\n",
      "       164.61983819, 166.38087874]), array([173.41720033, 174.40502564, 176.21434041, 158.91754261,\n",
      "       171.86137982, 184.27918175, 172.87874637, 168.90073557,\n",
      "       174.13861421, 167.41530367]), array([171.3060965 , 179.64222734, 171.64934506, 150.86806416,\n",
      "       169.57131851, 173.79302305, 170.6642152 , 175.7573843 ,\n",
      "       166.08448881, 180.28980575]), array([173.27747384, 174.95937235, 174.04389105, 171.04211431,\n",
      "       176.36511781, 168.36073708, 171.72639597, 180.5867424 ,\n",
      "       182.6447912 , 177.30282152]), array([182.00877667, 174.94989394, 167.90568772, 174.24743699,\n",
      "       172.44419591, 167.83841176, 173.3998151 , 176.10773745,\n",
      "       183.03697371, 164.48911255]), array([174.99748674, 175.10757964, 180.05097228, 174.41557845,\n",
      "       170.07742736, 171.01006696, 178.46714425, 176.88217393,\n",
      "       164.11212404, 164.45175621]), array([171.71081034, 175.69209239, 173.16298943, 170.88059956,\n",
      "       164.19989023, 177.0105445 , 180.04235314, 170.42727858,\n",
      "       168.24715061, 168.44743958]), array([173.74930873, 170.76924758, 177.33188268, 182.91053325,\n",
      "       160.07039412, 169.7017274 , 170.48396078, 169.55299241,\n",
      "       185.16719226, 168.88577274]), array([178.18932868, 170.04346698, 167.79215756, 178.39378818,\n",
      "       182.49949388, 168.44853128, 175.917743  , 172.25304676,\n",
      "       170.63680086, 168.64460211]), array([181.3121134 , 169.92908442, 169.41703333, 170.45344134,\n",
      "       175.56183055, 173.49671525, 167.70470434, 164.20857326,\n",
      "       166.70838522, 168.64725757]), array([172.5500318 , 175.86023543, 171.50180955, 179.12480468,\n",
      "       174.87927297, 166.26925251, 165.86540607, 173.61534658,\n",
      "       169.34883547, 169.54685161]), array([175.41603551, 172.58472238, 181.30682952, 180.9296665 ,\n",
      "       175.68973607, 169.32361985, 179.70915185, 167.75005516,\n",
      "       170.61458549, 171.83964696]), array([173.48929747, 170.34711551, 167.61896582, 172.24696188,\n",
      "       171.63560131, 176.14084335, 162.84115868, 177.77169938,\n",
      "       172.37614792, 175.29002529]), array([175.43361013, 181.25166447, 165.6420797 , 169.77656382,\n",
      "       176.75128654, 174.22313269, 176.86836701, 171.44625438,\n",
      "       169.9902801 , 167.14911804]), array([167.35355329, 169.53670322, 171.68288476, 165.80975696,\n",
      "       178.4987178 , 181.78732509, 168.0990879 , 169.89978653,\n",
      "       170.17199819, 166.02353417]), array([174.63441945, 172.10153863, 167.47282367, 176.80295517,\n",
      "       176.15251547, 160.16394303, 175.86931554, 167.91660303,\n",
      "       177.30233425, 171.85346187]), array([174.35922859, 173.03364034, 167.24718043, 175.35424167,\n",
      "       174.67666577, 167.27353679, 170.4564589 , 166.87402991,\n",
      "       172.75229651, 168.04300883]), array([182.70842022, 164.35249992, 173.19939834, 176.50452782,\n",
      "       176.33351893, 180.71221253, 177.11922031, 169.25677452,\n",
      "       167.988374  , 176.49346204]), array([169.49401639, 170.03379692, 164.77482897, 166.66041279,\n",
      "       161.53944169, 164.05898618, 165.35801634, 173.54019553,\n",
      "       166.36471534, 176.65851855]), array([168.07316978, 165.05969608, 170.03699614, 177.09690197,\n",
      "       169.78576574, 169.86788595, 179.9516381 , 171.66074418,\n",
      "       166.67428692, 170.52554811]), array([178.61367785, 174.75883508, 176.03506012, 161.02567018,\n",
      "       170.48465112, 175.08851131, 175.02781154, 174.22965794,\n",
      "       170.15165506, 166.99210295]), array([169.74681606, 181.065282  , 175.06418229, 176.77628111,\n",
      "       172.95212765, 178.09974229, 167.44226605, 163.1660544 ,\n",
      "       178.29957944, 177.99133327]), array([174.42373902, 179.12374655, 175.31712046, 184.23435209,\n",
      "       173.79885772, 171.21392007, 170.46655092, 170.26417126,\n",
      "       169.26935554, 168.40817325]), array([168.24111229, 164.48990722, 171.00213042, 173.1006053 ,\n",
      "       181.44612482, 162.064324  , 165.81492214, 180.53172646,\n",
      "       168.2248863 , 178.18628494]), array([165.26108462, 180.44453694, 178.78770498, 174.00356386,\n",
      "       167.00283679, 179.58332474, 176.88471599, 162.2405261 ,\n",
      "       174.37769227, 170.17173145]), array([171.22140354, 165.2265406 , 164.54812479, 161.46648435,\n",
      "       171.11532475, 172.20715074, 181.15021852, 166.32399468,\n",
      "       166.5791915 , 170.25894262]), array([166.40206052, 168.95110095, 165.50369461, 173.66484124,\n",
      "       173.19376705, 169.6561151 , 166.66292296, 173.14083707,\n",
      "       174.99943702, 161.43185744]), array([174.49670809, 169.01444842, 175.34979466, 179.0918385 ,\n",
      "       165.66437445, 168.23023876, 176.67402179, 171.87185749,\n",
      "       172.94994702, 175.05135195]), array([185.13940543, 174.72135016, 164.28788091, 170.56178252,\n",
      "       168.95201225, 182.57707464, 176.30059302, 166.68339844,\n",
      "       176.10020841, 167.52578511]), array([170.6216972 , 170.42781477, 171.29363711, 174.03330967,\n",
      "       166.22301098, 159.41098882, 172.00697999, 162.1151743 ,\n",
      "       157.09456837, 176.24364873]), array([170.63105387, 171.75066108, 172.49294155, 166.7138147 ,\n",
      "       171.91714456, 177.661578  , 176.701431  , 162.0653226 ,\n",
      "       176.06031773, 168.95054867]), array([178.27605947, 171.45742373, 177.02429394, 175.40503805,\n",
      "       168.3342706 , 170.16140044, 172.87102899, 170.43656017,\n",
      "       170.05171755, 178.64982665]), array([173.59033978, 171.07584242, 177.72255998, 164.8214977 ,\n",
      "       176.1538106 , 178.60409239, 175.2842308 , 171.92488144,\n",
      "       174.27413257, 180.20899904]), array([167.11511115, 170.04892486, 176.28480781, 178.15203951,\n",
      "       165.97780693, 165.7035413 , 172.38687818, 166.69659661,\n",
      "       164.26742476, 167.20197668]), array([169.30214809, 168.99451197, 171.89903917, 165.62027302,\n",
      "       178.88633752, 181.01133386, 169.68133709, 166.99165139,\n",
      "       169.52325363, 166.26037202]), array([168.77369343, 170.14504077, 171.39216257, 175.52066545,\n",
      "       169.32885535, 175.65609626, 177.48639841, 170.18006277,\n",
      "       172.49025652, 175.61487589]), array([174.24641166, 167.42714079, 170.61620027, 169.9616908 ,\n",
      "       171.04261577, 176.21178461, 170.07987303, 170.28984543,\n",
      "       163.06575313, 172.10261975]), array([169.36530842, 181.30682952, 177.80397392, 174.24104345,\n",
      "       177.29363817, 172.67399559, 175.05762271, 171.33520314,\n",
      "       172.54158029, 173.23385877]), array([170.42800717, 170.3148965 , 169.91562336, 173.51879919,\n",
      "       168.56687763, 175.35148086, 161.54248793, 169.70267055,\n",
      "       163.31114561, 170.18545925]), array([175.71326083, 173.83117345, 169.36087134, 170.75720388,\n",
      "       176.319646  , 173.85815969, 161.21713262, 176.18144245,\n",
      "       177.89972512, 176.02010455]), array([168.11834184, 164.68726665, 162.11979137, 169.02388705,\n",
      "       177.66892303, 169.05059785, 176.07689506, 171.88276864,\n",
      "       167.86661096, 168.39191031]), array([171.91112131, 166.54545877, 169.21401937, 172.16646881,\n",
      "       176.9209611 , 165.45581353, 173.04843453, 181.21273983,\n",
      "       186.76032713, 177.34490191]), array([165.34010388, 178.39641311, 176.35758671, 165.29801202,\n",
      "       168.1096244 , 166.85380552, 162.64418474, 175.12446961,\n",
      "       168.05731808, 177.9222216 ]), array([170.214858  , 165.91407029, 182.31409638, 170.86383186,\n",
      "       173.42093235, 168.53831526, 171.02194026, 171.67691307,\n",
      "       166.38882311, 163.49705217]), array([176.9076073 , 165.55270362, 182.0529614 , 164.79876678,\n",
      "       168.29887833, 175.75159043, 162.49266728, 175.52774559,\n",
      "       167.9428264 , 172.13568618]), array([174.85133206, 166.42142645, 175.52066545, 170.4501566 ,\n",
      "       167.35509091, 167.79588044, 177.51318225, 168.37482834,\n",
      "       174.19835869, 170.40608609]), array([168.38753237, 170.5665362 , 178.59715419, 172.75720704,\n",
      "       174.11420929, 167.68013011, 173.58589174, 179.33265635,\n",
      "       174.04309457, 168.60273018]), array([173.43156925, 178.27219532, 165.59181982, 172.27022588,\n",
      "       165.62027302, 171.24014413, 164.03758091, 171.73539613,\n",
      "       166.26817244, 171.07979907]), array([169.25578529, 176.43635507, 170.25759096, 176.83878747,\n",
      "       171.90695538, 168.19102734, 162.82424677, 178.91955257,\n",
      "       175.58171604, 178.42620132]), array([168.92311922, 171.66179852, 167.50515426, 185.40595064,\n",
      "       168.13996451, 174.89614598, 179.95187978, 178.54082317,\n",
      "       165.28038981, 165.92028549]), array([171.24014355, 168.25787356, 164.69597597, 174.78855477,\n",
      "       179.66751828, 167.94427212, 173.00040526, 177.62628897,\n",
      "       174.68350072, 171.46109368]), array([175.76085229, 176.6319441 , 161.16208845, 167.28821646,\n",
      "       170.63103817, 168.33956132, 168.43624206, 160.7670925 ,\n",
      "       167.34092773, 169.87525357]), array([177.71993346, 172.50709754, 172.60785914, 172.69937788,\n",
      "       166.2879041 , 173.92697197, 175.85639578, 168.31829105,\n",
      "       169.82083852, 177.36668809]), array([172.01650239, 171.97437151, 177.28999241, 165.55613626,\n",
      "       175.81156655, 168.94455522, 174.91392213, 176.66108695,\n",
      "       164.69636087, 170.35414097]), array([160.78585468, 173.00794341, 173.65471533, 179.61138615,\n",
      "       169.43362811, 174.86211316, 178.56496022, 173.42213423,\n",
      "       175.35424167, 174.11159245]), array([168.11618076, 161.035734  , 172.50771766, 170.02805287,\n",
      "       171.33233436, 163.3932123 , 164.99299729, 174.01424975,\n",
      "       172.1802317 , 173.05882712]), array([172.7039787 , 170.96639193, 168.45190107, 176.49104701,\n",
      "       183.18561043, 180.04300516, 178.42400961, 169.67292971,\n",
      "       174.22193956, 166.64057924]), array([167.74661949, 177.11180332, 176.70341736, 171.23773021,\n",
      "       179.72376227, 176.52595405, 180.52731463, 177.25526458,\n",
      "       174.23003889, 168.71144445]), array([165.03664823, 164.76411891, 176.50424654, 175.31143946,\n",
      "       169.76608018, 168.33740147, 170.44209947, 173.82986868,\n",
      "       173.70351793, 175.12593642]), array([170.07841932, 169.67066119, 173.32441281, 164.50593536,\n",
      "       174.90990527, 175.03256897, 170.37597686, 180.10033929,\n",
      "       166.26925314, 172.46334138]), array([175.91222989, 169.64573552, 174.55102882, 167.1717005 ,\n",
      "       165.8928187 , 167.91531967, 168.83661603, 171.08937816,\n",
      "       165.63319167, 167.91544926]), array([162.94793659, 176.48885474, 177.74954952, 175.86361153,\n",
      "       173.23115215, 174.23449872, 170.88333311, 171.51897169,\n",
      "       179.73149495, 171.68991857]), array([173.74375278, 166.2986827 , 172.65691318, 167.38410646,\n",
      "       178.47115473, 165.50079656, 177.95714481, 172.83238616,\n",
      "       161.26763189, 172.52488666]), array([179.2543081 , 175.2282064 , 170.02854009, 173.25375693,\n",
      "       164.69782529, 171.91538203, 173.22446489, 177.47669356,\n",
      "       175.15657986, 171.91993331]), array([168.78852668, 163.08586843, 169.63283878, 179.36273738,\n",
      "       173.17391279, 168.93772755, 162.57126018, 164.96291405,\n",
      "       169.97293685, 171.37395604]), array([179.60023589, 167.7210663 , 175.6184859 , 181.51592499,\n",
      "       168.64789322, 160.28006083, 167.02763958, 170.27057706,\n",
      "       165.75896693, 175.56183055]), array([169.12216642, 172.54484007, 172.17877218, 173.19376705,\n",
      "       166.27367484, 170.56729513, 170.27788456, 180.55256689,\n",
      "       164.46568941, 175.53401489]), array([160.33153184, 180.21557491, 173.98649811, 178.53381548,\n",
      "       168.20979601, 181.05887367, 178.09067037, 179.53064137,\n",
      "       172.07733191, 161.20814809]), array([166.02228099, 167.86282766, 167.79604444, 178.0246383 ,\n",
      "       180.62822255, 171.82505595, 172.75987845, 175.39695175,\n",
      "       166.39166597, 165.98412887]), array([169.89386131, 172.65524085, 170.07795792, 164.20132119,\n",
      "       175.16200021, 165.75293652, 170.30019698, 163.42490876,\n",
      "       181.0011287 , 164.94615586]), array([166.67142992, 178.13581151, 172.16425519, 163.73842832,\n",
      "       175.43363574, 173.39499964, 171.10811593, 166.5382219 ,\n",
      "       175.98395688, 186.01345929]), array([172.9674685 , 173.7743379 , 163.17676305, 162.02860976,\n",
      "       178.22359771, 172.06541572, 185.74127512, 168.31567701,\n",
      "       166.70070286, 174.8143431 ]), array([166.48470043, 175.53645082, 173.33824999, 172.83315048,\n",
      "       166.83467479, 158.66243697, 168.85070166, 173.17216743,\n",
      "       168.65975372, 176.81379844]), array([175.76940017, 172.01811834, 171.17745177, 168.27208407,\n",
      "       179.63359682, 165.55590856, 167.12563963, 175.5533046 ,\n",
      "       173.38245371, 170.21465029]), array([168.17088258, 170.75499673, 166.48075934, 171.99121374,\n",
      "       172.236395  , 172.52331019, 166.08173007, 174.37388422,\n",
      "       174.86805601, 169.92575522]), array([170.0831781 , 170.27609199, 174.50464628, 173.19260229,\n",
      "       177.5156776 , 176.46595626, 170.44926866, 173.71576558,\n",
      "       170.21746425, 168.22823648]), array([171.55255436, 177.23711919, 173.52143016, 165.21174096,\n",
      "       173.29172995, 173.40634918, 175.70029928, 163.37240065,\n",
      "       180.63932656, 175.88955205]), array([174.38530283, 174.77826302, 176.03094485, 174.62183479,\n",
      "       177.049145  , 172.79246055, 176.55721145, 174.90568912,\n",
      "       169.05571856, 174.43154018]), array([167.09177479, 182.27949715, 173.86199788, 179.0880607 ,\n",
      "       176.48289049, 167.51824367, 173.11066573, 168.98335967,\n",
      "       174.23746351, 172.28614005]), array([173.35749331, 166.58600449, 171.50823655, 170.87051343,\n",
      "       165.94885818, 165.9837237 , 165.8863874 , 175.6745947 ,\n",
      "       173.31401812, 166.02591654]), array([172.56329736, 169.1918251 , 170.4660487 , 176.59102169,\n",
      "       173.57862699, 173.27045933, 175.40415573, 165.14138242,\n",
      "       168.85952586, 172.23996979]), array([177.41590156, 169.97404246, 167.80107828, 170.54652871,\n",
      "       168.81297792, 169.87539493, 163.64455894, 176.8297111 ,\n",
      "       162.61325871, 179.65590074]), array([171.97231539, 184.92845301, 170.03609314, 170.56474369,\n",
      "       179.52296008, 175.35992367, 169.28435005, 174.21702112,\n",
      "       169.23495916, 181.48122928]), array([170.57238763, 168.43456223, 165.82525382, 179.51542487,\n",
      "       171.95290908, 170.2436401 , 172.17792565, 175.33203578,\n",
      "       169.87773609, 179.91790494]), array([178.22172069, 170.33280646, 172.20293981, 166.83081423,\n",
      "       171.17628121, 175.93051635, 172.48560371, 170.81624738,\n",
      "       177.91469642, 172.03664819]), array([181.14742206, 171.48899567, 164.29362561, 175.30517113,\n",
      "       180.53732909, 164.96485287, 179.53666373, 170.36352492,\n",
      "       172.85427618, 166.18799106]), array([173.10591451, 160.10365051, 177.90382422, 173.63659132,\n",
      "       165.30724972, 176.75844427, 180.04181377, 174.75857056,\n",
      "       176.56111341, 172.19115138]), array([168.50011855, 173.50700068, 171.00231185, 170.83111058,\n",
      "       167.63502545, 172.48314925, 165.96187434, 171.18783138,\n",
      "       165.28252339, 163.94791202]), array([170.15718086, 174.38530283, 168.38490753, 169.21931066,\n",
      "       164.36842149, 166.70838522, 171.19797762, 175.04063118,\n",
      "       169.26124309, 174.03921211]), array([159.46523113, 176.83541026, 178.06109868, 166.44951037,\n",
      "       174.83021209, 182.16668686, 175.88955205, 167.75848869,\n",
      "       169.75084531, 165.34136236]), array([166.16547566, 184.99547607, 181.22024289, 180.55973657,\n",
      "       167.05241363, 168.37039428, 168.43006667, 169.79354968,\n",
      "       179.70034285, 172.82236731]), array([168.01510349, 173.66149963, 170.87981527, 164.60398143,\n",
      "       174.41360898, 175.53245403, 172.77246308, 175.48468323,\n",
      "       177.43894069, 170.86405451]), array([171.3018751 , 178.3965091 , 160.75559951, 169.75581178,\n",
      "       174.38621678, 169.81393491, 175.2814712 , 174.9422298 ,\n",
      "       182.29087224, 173.88226561]), array([167.02763958, 173.21301348, 179.64267261, 164.40987927,\n",
      "       167.40363482, 169.16372615, 178.39445398, 167.11543938,\n",
      "       174.39276991, 164.69109194]), array([170.06425261, 179.09124485, 178.71042769, 166.6867892 ,\n",
      "       168.11227743, 176.19849345, 168.02892806, 172.8617425 ,\n",
      "       171.5041492 , 165.06355947]), array([176.6410737 , 168.01451169, 167.37180814, 176.96964324,\n",
      "       171.59361931, 177.68017415, 170.79191125, 173.56477748,\n",
      "       175.65811338, 179.28784917]), array([173.89401278, 174.11628182, 174.73142838, 175.40513358,\n",
      "       173.97940411, 166.60988659, 177.42787203, 173.66661712,\n",
      "       172.87560025, 171.95736553]), array([169.98788945, 164.55491783, 180.01972615, 179.5871108 ,\n",
      "       172.82461694, 173.93794273, 173.90770704, 164.03468032,\n",
      "       182.3489438 , 178.11501267]), array([181.38220335, 168.35221073, 167.55655409, 173.29515783,\n",
      "       168.0054513 , 170.75022817, 170.81039158, 174.56497521,\n",
      "       167.13559842, 180.33233741]), array([176.25179424, 166.80078469, 176.8158265 , 180.20899904,\n",
      "       176.92920087, 181.51592499, 176.10243306, 171.68661964,\n",
      "       169.21921466, 174.39511073]), array([168.26965038, 176.03022692, 171.69144003, 178.52705749,\n",
      "       174.01145216, 168.14565004, 171.78190037, 182.31812051,\n",
      "       162.1499339 , 175.01918668]), array([169.50242092, 166.24043227, 173.82735245, 180.27368739,\n",
      "       172.47444947, 165.75934449, 172.09850524, 173.49720221,\n",
      "       166.49037254, 174.94143827]), array([175.9600065 , 170.21264715, 172.01809767, 172.65477213,\n",
      "       174.31162433, 174.55852841, 170.10653254, 169.75240169,\n",
      "       175.33359995, 177.51729054]), array([173.94506344, 166.26743913, 173.36164709, 172.0138224 ,\n",
      "       174.19914187, 166.91015963, 179.04949004, 177.37121371,\n",
      "       175.77147586, 159.94107011]), array([179.71397397, 172.12536751, 179.98090639, 170.59615748,\n",
      "       174.51671098, 175.30300731, 164.76725326, 176.98762838,\n",
      "       171.2958718 , 162.5466764 ]), array([176.43142823, 172.19614843, 174.9059085 , 166.69272472,\n",
      "       170.46701723, 172.52331019, 164.95313327, 171.32900166,\n",
      "       174.39591568, 175.2748908 ]), array([170.35906939, 168.37501578, 166.48239481, 172.82461694,\n",
      "       179.48145717, 170.98465073, 161.72588936, 172.86399719,\n",
      "       170.88386205, 167.31149853]), array([170.68287911, 167.5295179 , 170.85355902, 170.28226391,\n",
      "       170.76321756, 172.53008573, 171.82576993, 170.31256813,\n",
      "       170.96049281, 180.3846822 ]), array([179.27003602, 170.17164241, 165.43348432, 171.4344934 ,\n",
      "       179.18588928, 173.79434831, 168.2970028 , 175.11315011,\n",
      "       171.77933099, 174.54512936]), array([180.63818286, 172.32126093, 182.93272277, 174.30529731,\n",
      "       167.39356953, 173.59234486, 161.10383938, 170.51955834,\n",
      "       172.37696531, 175.78659084]), array([176.86645412, 165.65332627, 177.049673  , 171.20667223,\n",
      "       168.81232562, 170.90233874, 172.17046471, 176.59059591,\n",
      "       162.89453751, 179.17233926]), array([173.79141225, 171.37233149, 177.83146136, 169.89835894,\n",
      "       164.19512892, 172.26941146, 178.3277887 , 173.81060448,\n",
      "       176.24277114, 173.9321256 ]), array([171.76954576, 174.35643307, 164.8399855 , 170.86371133,\n",
      "       167.92076185, 168.46642088, 166.97057177, 173.8145511 ,\n",
      "       168.50433322, 173.33267095]), array([179.90329541, 177.81252529, 170.48185183, 169.85568531,\n",
      "       171.49672569, 180.71306025, 164.35648604, 166.96434771,\n",
      "       173.38603556, 184.40397327]), array([173.05908319, 175.10399474, 168.36763919, 169.3362054 ,\n",
      "       172.08087299, 166.38087874, 175.60244999, 172.70140242,\n",
      "       175.3740479 , 165.82522738]), array([177.51598897, 163.44562914, 176.1738046 , 168.85858578,\n",
      "       171.40590146, 168.14631815, 180.34249809, 174.17808405,\n",
      "       181.88171863, 168.70026328]), array([169.77656382, 168.74269427, 165.38095065, 174.66853321,\n",
      "       172.88616931, 178.53917192, 183.35997295, 173.38651254,\n",
      "       163.80663622, 166.18147965]), array([178.57668758, 173.34307125, 173.92319609, 171.80458232,\n",
      "       171.54395843, 166.94108103, 183.92316751, 171.92202069,\n",
      "       170.30994964, 165.15771873]), array([167.38494037, 177.66919963, 170.58254817, 170.57729893,\n",
      "       166.58852196, 170.25130187, 174.08948638, 168.07998971,\n",
      "       169.48102567, 168.22823648]), array([170.77499537, 171.32626134, 164.46569449, 163.01352813,\n",
      "       174.5267332 , 169.77376737, 168.86349663, 170.86719972,\n",
      "       164.89944374, 166.53294265]), array([178.38181   , 176.97826169, 166.98820347, 173.03539299,\n",
      "       171.36592949, 171.14012161, 171.9025221 , 176.44509256,\n",
      "       172.88690202, 166.17006666]), array([172.03127705, 160.12620241, 172.99249757, 169.91415969,\n",
      "       163.78791807, 168.64173841, 171.85891987, 168.780787  ,\n",
      "       167.11012618, 167.05489365]), array([174.9767859 , 173.99171819, 179.05790995, 179.671296  ,\n",
      "       164.8214977 , 174.64337114, 168.21118801, 175.52169912,\n",
      "       173.30591904, 172.13618338]), array([169.31799474, 174.70003809, 168.42162021, 178.42850821,\n",
      "       174.32492923, 179.49655235, 173.22568902, 172.22443906,\n",
      "       173.96645964, 174.11767436]), array([172.89492559, 171.29099009, 170.31724745, 169.66261322,\n",
      "       172.94119046, 163.06551124, 172.01100416, 166.94935404,\n",
      "       179.49655235, 167.86350026]), array([173.27827549, 168.11574452, 165.91984793, 173.76042409,\n",
      "       175.15517897, 166.23758825, 174.2832012 , 169.54138587,\n",
      "       177.89339267, 173.61825075]), array([169.01012291, 165.70923869, 166.24121247, 166.57506627,\n",
      "       172.64321345, 174.77177767, 167.86282766, 170.94249735,\n",
      "       166.35447612, 172.99543649]), array([169.90331331, 170.25759096, 167.37987482, 173.46147432,\n",
      "       168.65257872, 172.00993442, 166.06340825, 174.67121419,\n",
      "       176.69284747, 169.91218921]), array([174.32634769, 163.86209635, 171.62929933, 179.69843094,\n",
      "       181.71232641, 172.07706038, 163.43258028, 182.4634317 ,\n",
      "       173.39601436, 164.18511711]), array([172.08538358, 177.43180681, 165.68554075, 170.52575129,\n",
      "       177.42370814, 177.94387676, 167.90602096, 177.49893469,\n",
      "       166.08677034, 167.8345161 ]), array([175.47073602, 173.68868243, 168.68985911, 173.04140508,\n",
      "       176.09226282, 174.43700386, 163.8764349 , 175.57469989,\n",
      "       175.2269954 , 175.66783884]), array([173.44518544, 162.56709417, 172.85315435, 170.54522529,\n",
      "       173.12882854, 169.71599516, 171.45032678, 171.55759732,\n",
      "       169.24396589, 160.48217724]), array([177.14366705, 175.90179011, 171.97945968, 167.21281252,\n",
      "       177.40139014, 167.91460476, 173.564711  , 173.28250328,\n",
      "       172.63917763, 171.81356788]), array([175.10484149, 176.88217393, 172.43256207, 167.30396045,\n",
      "       176.05285404, 177.12586542, 176.16974352, 178.41930498,\n",
      "       166.02058932, 168.47077674]), array([171.40511927, 177.68671246, 161.5569272 , 173.21147358,\n",
      "       167.58181295, 171.02194026, 170.75499673, 170.22167906,\n",
      "       164.68837141, 168.58931179]), array([162.93524761, 162.09124196, 168.83605011, 166.44081566,\n",
      "       176.642786  , 169.85844116, 168.98861638, 172.25028782,\n",
      "       171.3109875 , 174.08033843]), array([178.91204662, 175.13486115, 168.85070166, 179.41371089,\n",
      "       182.68503436, 171.61601589, 171.79217343, 171.76486924,\n",
      "       176.60006542, 174.86222522]), array([172.30771254, 172.34141706, 165.73698414, 168.97960873,\n",
      "       174.37388422, 170.32865955, 170.60675959, 166.35109244,\n",
      "       168.77064738, 176.1513684 ]), array([174.4189172 , 161.10372446, 171.47147038, 161.19094671,\n",
      "       175.87334404, 172.222857  , 169.77521154, 166.59835058,\n",
      "       173.57707492, 179.61072751]), array([165.42122248, 174.56759547, 173.5611904 , 179.87377377,\n",
      "       173.05805082, 170.93489518, 164.7680208 , 182.30324299,\n",
      "       176.13992418, 166.60548642]), array([172.44924085, 166.62737229, 171.04363153, 174.05420926,\n",
      "       169.27393529, 172.95914622, 168.4060008 , 173.63054977,\n",
      "       180.93509021, 171.92871191]), array([167.71110123, 164.16886785, 165.86797448, 174.66392119,\n",
      "       168.92869716, 166.0094023 , 169.35165336, 172.19336686,\n",
      "       168.03776871, 173.2282099 ]), array([175.44795038, 173.89450803, 164.38549283, 172.90447094,\n",
      "       176.66884023, 169.38495981, 160.24337614, 167.69357454,\n",
      "       175.68263135, 175.26235165]), array([172.06416438, 167.39692123, 167.7774168 , 180.84174902,\n",
      "       173.36794059, 181.98320508, 165.29316904, 177.39088573,\n",
      "       179.4674621 , 181.26639882]), array([168.20498948, 174.19817768, 170.54113484, 168.94395828,\n",
      "       169.27456967, 173.38314102, 172.73264906, 161.1666577 ,\n",
      "       170.47089664, 164.02847315]), array([174.94832862, 170.15172546, 170.67990505, 177.08451526,\n",
      "       174.30982682, 175.71012726, 173.84810267, 165.29674858,\n",
      "       168.33039958, 166.2089853 ]), array([178.37899685, 179.61284569, 175.20963903, 165.22922407,\n",
      "       169.78576574, 173.58768192, 173.9667755 , 180.23839675,\n",
      "       172.29081949, 169.87195231]), array([178.57265519, 168.77142771, 161.48639963, 175.30820342,\n",
      "       161.65681199, 174.68218471, 165.89844872, 169.44445491,\n",
      "       178.15992445, 173.25864477]), array([170.36324737, 178.00390146, 160.78368207, 173.139863  ,\n",
      "       169.76778271, 169.18295672, 169.68994528, 174.97448742,\n",
      "       165.69701254, 173.55638887]), array([179.11417102, 168.98952779, 171.62467515, 174.79799606,\n",
      "       179.86441261, 175.24782408, 171.42038917, 169.18575184,\n",
      "       171.70235987, 178.97915105]), array([170.34415631, 173.55319925, 164.68669571, 171.65329416,\n",
      "       168.12075846, 167.6639011 , 167.83747074, 167.69155334,\n",
      "       170.50773534, 165.37666184]), array([171.59918845, 176.76116725, 167.85037285, 176.71645359,\n",
      "       174.28852318, 169.18998581, 168.62270206, 161.46383923,\n",
      "       172.8524921 , 176.70025101]), array([175.83343157, 178.76579292, 176.81144487, 169.17957078,\n",
      "       179.73179647, 175.30791987, 166.07950573, 175.61211471,\n",
      "       164.62573116, 171.57762095]), array([165.50077777, 170.89801008, 160.77815784, 166.25054616,\n",
      "       176.12017857, 169.21353832, 175.38810433, 165.27492648,\n",
      "       174.84819286, 171.68002979]), array([171.61369572, 171.30354333, 177.5587451 , 171.4432745 ,\n",
      "       168.95120864, 176.37088298, 168.79739655, 177.45196658,\n",
      "       170.79069143, 168.90110676]), array([163.06646234, 170.43198803, 178.02653728, 171.12585327,\n",
      "       172.19679047, 171.0612774 , 171.33412218, 185.39243984,\n",
      "       179.22612612, 172.44355613]), array([172.90292358, 180.03702191, 170.72287666, 181.7363755 ,\n",
      "       170.87506858, 174.99613094, 178.03614982, 176.48503335,\n",
      "       172.3316063 , 181.67135928]), array([174.04389105, 167.60157667, 167.66071525, 171.29815521,\n",
      "       169.87262046, 177.33184263, 170.3222078 , 175.97630222,\n",
      "       176.4604455 , 173.586539  ]), array([176.15185562, 176.12465741, 171.18369788, 173.32829011,\n",
      "       167.47100716, 169.04289578, 178.02814918, 172.99276411,\n",
      "       169.06234112, 171.42523296]), array([175.98852436, 165.08974021, 175.24513128, 173.82272605,\n",
      "       177.3719023 , 183.17469227, 180.34121165, 172.6015011 ,\n",
      "       172.75146433, 180.93666246]), array([173.25574278, 172.82723553, 177.36727136, 178.8845381 ,\n",
      "       167.09095054, 170.82868197, 171.55872917, 177.43504932,\n",
      "       173.59769288, 170.24587554]), array([181.12731587, 165.98075355, 164.11539417, 176.96643754,\n",
      "       171.4827121 , 168.26281773, 172.67417749, 165.12253284,\n",
      "       166.58852196, 172.69564393]), array([173.84454678, 167.87122466, 166.47781298, 171.74574247,\n",
      "       173.42558727, 172.60596548, 174.45183403, 171.88994221,\n",
      "       174.23671815, 168.19490605]), array([176.63015152, 173.86259097, 170.92013842, 180.77248502,\n",
      "       178.80485331, 177.92790216, 171.36239134, 172.23873106,\n",
      "       168.03174685, 158.6601724 ]), array([165.25009834, 179.90101596, 162.42007485, 164.48906775,\n",
      "       169.24660341, 171.80365305, 179.61284569, 173.02139946,\n",
      "       174.45799704, 171.43628698]), array([175.2788327 , 171.32279823, 173.5231334 , 168.49597494,\n",
      "       178.50937534, 172.98404118, 177.55316483, 169.27855729,\n",
      "       171.86962063, 172.78037005]), array([166.79651858, 166.64835794, 177.08702542, 173.25681653,\n",
      "       170.9400201 , 169.32435064, 172.7039787 , 164.68801569,\n",
      "       172.04863145, 172.70574915]), array([173.41544928, 176.35798438, 170.56757652, 164.76725326,\n",
      "       166.18799106, 167.81347151, 183.59367369, 169.38757394,\n",
      "       169.10486191, 167.22193837]), array([175.47024574, 175.51368273, 168.0381801 , 174.20529484,\n",
      "       175.40073817, 166.0993564 , 174.57782059, 168.66053366,\n",
      "       171.13502808, 170.80299061]), array([169.80285458, 176.10287943, 175.19497784, 171.69350351,\n",
      "       169.52325363, 177.60601716, 171.45586872, 178.30096534,\n",
      "       174.98633505, 177.64636231]), array([172.59571733, 169.1959958 , 173.00315305, 163.37240065,\n",
      "       180.99665664, 173.9650511 , 168.72214652, 176.25023326,\n",
      "       165.4041144 , 161.34959174]), array([167.39361028, 182.58111642, 176.55644381, 176.0853408 ,\n",
      "       164.00388957, 171.59421896, 167.44625284, 171.54802058,\n",
      "       171.15507918, 171.84455003]), array([176.75114313, 175.31468812, 169.25795743, 172.43760523,\n",
      "       167.0393784 , 169.82922442, 176.00368602, 164.35711272,\n",
      "       177.48104154, 172.39319672]), array([166.67142992, 176.74276859, 170.80880726, 169.47651169,\n",
      "       179.32485724, 182.05998111, 162.64918685, 168.7557983 ,\n",
      "       181.4048214 , 173.3443188 ]), array([167.23906577, 165.69527535, 164.048995  , 177.26680839,\n",
      "       167.47220189, 176.20489071, 167.3282    , 172.00689988,\n",
      "       170.89147951, 172.82796078]), array([171.54740979, 176.27517987, 169.50616361, 167.6838907 ,\n",
      "       168.16644306, 180.80438291, 163.36633648, 167.93473079,\n",
      "       166.62684922, 182.80320064]), array([173.25730603, 179.25499767, 168.77259759, 171.18385292,\n",
      "       170.34960798, 173.80766252, 175.23522425, 166.31574881,\n",
      "       174.35205167, 175.34626574]), array([168.29771384, 163.6371021 , 174.38103357, 166.1620129 ,\n",
      "       168.08640181, 173.42558727, 189.01295252, 181.87634443,\n",
      "       168.43973482, 175.2748908 ]), array([171.59890727, 166.52471841, 164.85579071, 170.38349017,\n",
      "       165.33969287, 170.41995791, 166.87152022, 165.00358539,\n",
      "       174.51691417, 178.39216022]), array([173.50267044, 178.27317883, 178.43671077, 167.00267158,\n",
      "       179.14249854, 165.65584886, 159.87297971, 177.59289885,\n",
      "       177.51881091, 171.84507518]), array([164.4959104 , 175.38250243, 170.96391469, 170.17872106,\n",
      "       163.0626643 , 171.07186486, 171.92202069, 176.71079246,\n",
      "       177.31333799, 179.86441261]), array([176.04119246, 173.45044019, 171.11212498, 172.21481356,\n",
      "       175.61941573, 183.59631042, 170.27788456, 167.71835373,\n",
      "       173.11573733, 159.59629678]), array([170.73253259, 162.86546679, 172.66568833, 180.27612157,\n",
      "       167.87383708, 176.16562008, 173.20569485, 168.88193331,\n",
      "       163.98160529, 170.4660487 ]), array([159.88925518, 178.33790723, 170.66065199, 168.3938249 ,\n",
      "       174.884738  , 177.76387585, 174.96468975, 170.07018858,\n",
      "       180.4749908 , 166.48953752]), array([178.37782471, 164.32070873, 165.72795907, 168.51864232,\n",
      "       166.86150938, 161.653271  , 163.48332741, 167.8113915 ,\n",
      "       169.64597075, 168.88599173]), array([169.56130128, 180.34016115, 177.91155238, 181.29011234,\n",
      "       172.69632806, 167.59461523, 161.66804049, 174.85511745,\n",
      "       169.43384774, 167.90597031]), array([169.90475908, 173.92479811, 169.37406441, 177.54648807,\n",
      "       168.53831526, 172.94169491, 177.4828226 , 171.38643724,\n",
      "       176.34030482, 169.8345824 ]), array([169.18189149, 169.41996674, 173.39442612, 166.4932035 ,\n",
      "       175.53834283, 173.72288875, 175.48131683, 175.56394891,\n",
      "       169.31544752, 177.10552447]), array([165.25636875, 173.21508141, 169.13246428, 175.68610764,\n",
      "       174.79497419, 171.14490748, 168.08226886, 173.80911594,\n",
      "       180.02466502, 169.44812008]), array([161.9561166 , 161.65646954, 164.67441331, 171.35737333,\n",
      "       170.60769387, 167.11058003, 172.08258922, 171.66213778,\n",
      "       174.61529575, 173.04897875]), array([167.40220505, 182.34672736, 170.72441832, 177.47367248,\n",
      "       163.64287246, 170.75867974, 170.62928263, 168.85059287,\n",
      "       169.33820586, 163.31436287]), array([178.76601785, 169.4675382 , 177.86707862, 172.84214323,\n",
      "       173.93229831, 166.64859582, 165.18308135, 176.14286894,\n",
      "       178.19173266, 171.07359059]), array([178.24775134, 167.00330657, 176.20489071, 177.16319445,\n",
      "       170.19909471, 175.81251402, 170.64916224, 166.2854144 ,\n",
      "       169.15597471, 174.50797011]), array([173.49727142, 166.58360135, 170.45624739, 176.60378078,\n",
      "       171.11237575, 164.4959104 , 165.14250429, 163.95179657,\n",
      "       168.69625843, 177.12960103]), array([163.11921966, 171.7923723 , 159.86750158, 174.45621655,\n",
      "       178.1922006 , 175.14820339, 165.2947124 , 164.55491783,\n",
      "       168.4818634 , 173.74681559]), array([176.40769062, 173.60099093, 168.95110095, 175.00241511,\n",
      "       173.902638  , 173.10055638, 175.26057982, 173.35238248,\n",
      "       168.21386268, 172.43008471]), array([176.40286722, 173.12302691, 176.79201949, 160.07093394,\n",
      "       171.9247819 , 171.63398573, 171.17640725, 173.27486729,\n",
      "       162.73770319, 165.56955822]), array([179.65669112, 167.36983308, 181.5031601 , 174.87069309,\n",
      "       161.03893753, 169.16166103, 170.89630366, 174.46842505,\n",
      "       164.03605402, 168.84038337]), array([161.86766832, 167.4105309 , 170.24260076, 181.23176094,\n",
      "       171.93136098, 176.54560718, 175.4836962 , 185.42790751,\n",
      "       171.87713622, 168.65677875]), array([169.50064335, 174.32136993, 172.06201925, 182.64888321,\n",
      "       174.84322391, 176.01460748, 172.37040286, 164.34501431,\n",
      "       176.16636185, 172.05330909]), array([182.42619827, 167.66793711, 168.01644664, 176.53669401,\n",
      "       175.47045718, 168.2250597 , 171.58908662, 169.01515141,\n",
      "       168.81762821, 170.52932536]), array([166.83729107, 170.08019992, 174.72381142, 169.10139139,\n",
      "       157.78809445, 182.62894136, 172.80938224, 163.16811089,\n",
      "       175.75093476, 176.379137  ]), array([169.5266188 , 173.04827238, 173.41076075, 161.82353465,\n",
      "       179.70986484, 173.96225786, 156.54761699, 174.39882258,\n",
      "       169.83950332, 165.91133103]), array([169.04942425, 175.78739623, 176.91887779, 171.05860801,\n",
      "       168.73149409, 171.13482877, 169.65232442, 170.66558689,\n",
      "       173.80397931, 172.48458763]), array([169.61971969, 176.46940451, 177.01909954, 166.61492196,\n",
      "       165.58360992, 165.32571397, 170.08687384, 170.61163929,\n",
      "       174.09651751, 167.98603865]), array([170.6138048 , 164.18722769, 170.7355773 , 169.2100983 ,\n",
      "       174.82102045, 165.09659596, 166.79649898, 168.61596889,\n",
      "       170.60700266, 169.86043653]), array([175.56211369, 176.19390702, 170.6284839 , 168.81104727,\n",
      "       169.71916743, 170.56107449, 177.48666522, 167.01839219,\n",
      "       179.72702882, 172.75229651]), array([166.47859656, 174.03386389, 170.92637985, 175.74476476,\n",
      "       177.22306945, 172.7062276 , 174.80737089, 160.78585468,\n",
      "       170.91218783, 173.73390341]), array([170.83091999, 166.64057924, 167.50960174, 168.06511136,\n",
      "       166.75690245, 161.41129747, 173.83469308, 173.87126896,\n",
      "       171.07359059, 172.12984701]), array([181.78663665, 173.26071968, 171.37884342, 177.03462398,\n",
      "       169.86372649, 170.32519161, 170.37884728, 176.63422   ,\n",
      "       170.00995422, 162.30025406]), array([172.47396913, 172.61985371, 172.93617547, 164.7828457 ,\n",
      "       175.18240259, 171.14030209, 164.80273057, 170.40820629,\n",
      "       168.85045001, 166.79920833]), array([174.45389114, 173.63102912, 168.54161528, 171.69447714,\n",
      "       171.23955742, 171.08520808, 167.22335477, 166.87472226,\n",
      "       168.99528645, 166.54393746]), array([183.59577266, 179.13375545, 170.73889864, 170.11498699,\n",
      "       161.21713262, 166.87505937, 176.04180313, 160.67169272,\n",
      "       171.1901068 , 177.9272706 ]), array([172.73845762, 178.20263793, 177.88788604, 169.27143972,\n",
      "       169.754042  , 170.58877802, 161.16048126, 162.73103059,\n",
      "       178.16537282, 167.16922567]), array([174.05704519, 172.97251575, 177.99578681, 180.59444112,\n",
      "       168.15449604, 159.45901018, 182.59830232, 172.9945433 ,\n",
      "       173.59571908, 177.38816687]), array([158.76487705, 171.50938721, 171.53357447, 172.93599222,\n",
      "       171.72294499, 174.70367589, 170.47400027, 167.80009661,\n",
      "       169.94387618, 169.84742678]), array([176.49815213, 182.45278086, 171.79701292, 172.55434162,\n",
      "       165.14381125, 169.71437722, 181.41191993, 171.05084522,\n",
      "       174.16566646, 180.53165029]), array([177.56215598, 169.75240169, 165.49226346, 172.1338763 ,\n",
      "       176.96643754, 173.04555893, 175.13368324, 166.08677034,\n",
      "       181.25154778, 174.76433097]), array([172.03584072, 168.09779108, 174.77770395, 166.57480965,\n",
      "       178.95042092, 168.95667605, 181.10657649, 173.03316706,\n",
      "       176.09924632, 182.90484697]), array([174.0330371 , 167.67630968, 182.93395411, 165.44212089,\n",
      "       175.16436761, 174.75909972, 175.17255506, 167.52192048,\n",
      "       169.92436039, 176.55734982]), array([173.99641756, 168.84532739, 181.30895652, 175.16916569,\n",
      "       166.21203492, 183.55805318, 165.7203936 , 174.17494214,\n",
      "       159.52593764, 178.37646019]), array([171.64934506, 179.4334693 , 176.91344144, 166.04843566,\n",
      "       171.79385863, 174.59606287, 167.83866163, 177.77906444,\n",
      "       166.59674914, 167.99410271]), array([168.67546624, 171.03285018, 170.02805287, 164.95235206,\n",
      "       174.00268053, 180.35037186, 169.52639161, 169.65151504,\n",
      "       166.66208178, 163.99524776]), array([170.97729432, 176.23507704, 165.02866896, 166.21326445,\n",
      "       179.33018304, 167.70164458, 162.73456303, 173.33052149,\n",
      "       175.49418378, 177.56254829]), array([178.56169979, 163.17995351, 168.32662608, 182.7760125 ,\n",
      "       161.02078878, 168.04450755, 174.7779384 , 174.12900183,\n",
      "       173.63408098, 170.38017341]), array([167.71623462, 165.65540396, 175.19179496, 174.55363389,\n",
      "       171.18906851, 175.57607772, 175.28467677, 173.96829518,\n",
      "       176.74276859, 170.11003566]), array([176.52099587, 173.64860372, 178.85742476, 166.87118295,\n",
      "       169.49155705, 172.30876484, 177.60542468, 173.47898806,\n",
      "       164.07117241, 170.89633988]), array([167.84926198, 167.52578511, 171.6203561 , 171.13440857,\n",
      "       173.25666277, 166.42501433, 173.66175802, 165.50077777,\n",
      "       161.75809138, 168.33187589]), array([169.92575522, 177.77189345, 186.00367689, 184.87922633,\n",
      "       173.91662314, 172.17009167, 167.44227284, 159.48103764,\n",
      "       166.53697569, 169.47911139]), array([168.94395828, 169.81583185, 173.98531004, 173.36330163,\n",
      "       172.4986957 , 170.48202892, 166.96835006, 172.84778792,\n",
      "       172.94183933, 174.78708175]), array([168.60902976, 173.07471723, 175.79186266, 178.34969184,\n",
      "       174.44654606, 171.27060008, 166.67377556, 173.01132919,\n",
      "       178.15043074, 180.46545556]), array([172.62213637, 166.62058444, 170.58110926, 173.92697197,\n",
      "       175.57655649, 174.37534591, 171.32821701, 171.67888748,\n",
      "       172.4763802 , 165.09659596]), array([174.38661565, 176.87880246, 178.25705666, 169.30234268,\n",
      "       166.76178829, 168.95098456, 177.71557115, 168.43778203,\n",
      "       172.35343433, 164.66746677]), array([174.57621026, 167.81355886, 175.01574475, 164.03656492,\n",
      "       166.42842096, 173.72192278, 169.7089314 , 166.47159824,\n",
      "       166.18063688, 167.83866163]), array([176.9150778 , 177.28876357, 168.64278796, 168.20916646,\n",
      "       173.07304891, 176.42179368, 177.32861077, 174.44412901,\n",
      "       175.21408379, 170.29149351]), array([170.89621479, 166.22411149, 172.9945433 , 175.59447907,\n",
      "       168.06418357, 174.70244911, 163.95269954, 172.37086109,\n",
      "       172.32832403, 171.07570411]), array([166.48363978, 165.06606294, 169.55612855, 177.37739475,\n",
      "       165.09659596, 178.30096534, 173.27948992, 168.93066609,\n",
      "       175.28443544, 170.45376015]), array([176.63088703, 173.87495806, 171.82834673, 168.28359233,\n",
      "       175.30747856, 177.14738846, 164.97831621, 180.28343202,\n",
      "       167.2646197 , 164.62279793]), array([171.69820435, 170.19539631, 177.5301386 , 171.08425757,\n",
      "       173.54521058, 170.77608843, 175.12185268, 171.40037486,\n",
      "       171.46526711, 179.19122738]), array([177.60655406, 164.80559971, 179.99331703, 173.48685815,\n",
      "       168.57008033, 174.74214479, 176.61484894, 162.85368241,\n",
      "       175.79275356, 174.09306534]), array([169.9974807 , 168.8228464 , 172.76917785, 171.76874397,\n",
      "       177.40241074, 176.49318158, 172.54864234, 163.978009  ,\n",
      "       177.44252808, 167.80187677]), array([173.98361367, 173.65053184, 176.41811178, 168.60888934,\n",
      "       169.49876853, 175.35213907, 168.42072748, 167.02391248,\n",
      "       167.07702368, 164.54067587]), array([176.46323687, 165.94723936, 168.93342442, 165.51579892,\n",
      "       171.55523058, 178.30569527, 176.06241612, 169.18361358,\n",
      "       167.98735457, 176.49478305])]\n"
     ]
    }
   ],
   "source": [
    "print(daily_sample_10)"
   ]
  },
  {
   "cell_type": "markdown",
   "metadata": {},
   "source": [
    "The above is the distribution of the means of samples of size 10 taken from our population. The Central Limit Theorem tells us the expected mean of this distribution will be equal to the population mean, and standard deviation will be $\\sigma / \\sqrt n$, which, in this case, should be approximately 1.58."
   ]
  },
  {
   "cell_type": "markdown",
   "metadata": {},
   "source": [
    "__Q:__ Verify the above results from the CLT."
   ]
  },
  {
   "cell_type": "markdown",
   "metadata": {},
   "source": [
    "__A:__"
   ]
  },
  {
   "cell_type": "code",
   "execution_count": 48,
   "metadata": {},
   "outputs": [
    {
     "data": {
      "text/plain": [
       "171.86600493586488"
      ]
     },
     "execution_count": 48,
     "metadata": {},
     "output_type": "execute_result"
    }
   ],
   "source": [
    "np.mean(daily_sample_10)"
   ]
  },
  {
   "cell_type": "code",
   "execution_count": 51,
   "metadata": {},
   "outputs": [
    {
     "data": {
      "text/plain": [
       "4.993357324234422"
      ]
     },
     "execution_count": 51,
     "metadata": {},
     "output_type": "execute_result"
    }
   ],
   "source": [
    "np.std(daily_sample_10)"
   ]
  },
  {
   "cell_type": "markdown",
   "metadata": {},
   "source": [
    "Remember, in this instance, we knew our population parameters, that the average height really is 172 cm and the standard deviation is 5 cm, and we see some of our daily estimates of the population mean were as low as around 168 and some as high as 176."
   ]
  },
  {
   "cell_type": "markdown",
   "metadata": {},
   "source": [
    "__Q:__ Repeat the above year's worth of samples but for a sample size of 50 (perhaps you had a bigger budget for conducting surveys that year!) Would you expect your distribution of sample means to be wider (more variable) or narrower (more consistent)? Compare your resultant summary statistics to those predicted by the CLT."
   ]
  },
  {
   "cell_type": "markdown",
   "metadata": {},
   "source": [
    "__A:__"
   ]
  },
  {
   "cell_type": "code",
   "execution_count": 53,
   "metadata": {},
   "outputs": [],
   "source": [
    "seed(47)\n",
    "# calculate daily means from the larger sample size here\n",
    "daily_sample_50 =[]\n",
    "for i in range(365):\n",
    "    daily_sample_50.append(townsfolk_sampler(50))"
   ]
  },
  {
   "cell_type": "code",
   "execution_count": 54,
   "metadata": {},
   "outputs": [
    {
     "data": {
      "text/plain": [
       "4.991965467489464"
      ]
     },
     "execution_count": 54,
     "metadata": {},
     "output_type": "execute_result"
    }
   ],
   "source": [
    "np.mean(daily_sample_50)\n",
    "np.std(daily_sample_50)"
   ]
  },
  {
   "cell_type": "markdown",
   "metadata": {},
   "source": [
    "What we've seen so far, then, is that we can estimate population parameters from a sample from the population, and that samples have their own distributions. Furthermore, the larger the sample size, the narrower are those sampling distributions."
   ]
  },
  {
   "cell_type": "markdown",
   "metadata": {},
   "source": [
    "### III Normally testing times!"
   ]
  },
  {
   "cell_type": "markdown",
   "metadata": {},
   "source": [
    "All of the above is well and good. We've been sampling from a population we know is normally distributed, we've come to understand when to use $n$ and when to use $n-1$ in the denominator to calculate the spread of a distribution, and we've  seen the Central Limit Theorem in action for a sampling distribution. All seems very well behaved in Frequentist land. But, well, why should we really care?"
   ]
  },
  {
   "cell_type": "markdown",
   "metadata": {},
   "source": [
    "Remember, we rarely (if ever) actually know our population parameters but you still have to estimate them somehow. If we want to make inferences such as \"is this observation unusual?\" or \"has my population mean changed?\" then you need to have some idea of what the underlying distribution is so you can calculate relevant probabilities. In frequentist inference, you use the formulas above to deduce these population parameters. Take a moment in the next part of this assignment to refresh your understanding of how these probabilities work."
   ]
  },
  {
   "cell_type": "markdown",
   "metadata": {},
   "source": [
    "Recall some basic properties of the standard Normal distribution, such as about 68% of observations being within plus or minus 1 standard deviation of the mean.\n",
    "\n",
    "__Q:__ Using this fact, calculate the probability of observing the value 1 or less in a single observation from the standard normal distribution. Hint: you may find it helpful to sketch the standard normal distribution (the familiar bell shape) and mark the number of standard deviations from the mean on the x-axis and shade the regions of the curve that contain certain percentages of the population."
   ]
  },
  {
   "cell_type": "markdown",
   "metadata": {},
   "source": [
    "__A:__ When std is 1 then there is a 68% change that the observation falls underneath this "
   ]
  },
  {
   "cell_type": "markdown",
   "metadata": {},
   "source": [
    "Calculating this probability involved calculating the area under the pdf from the value of 1 and below. To put it another way, we need to integrate the pdf. We could just add together the known areas of chunks (from -Inf to 0 and then 0 to $+\\sigma$ in the example above. One way to do this is using look up tables (literally). Fortunately, scipy has this functionality built in with the cdf() function."
   ]
  },
  {
   "cell_type": "markdown",
   "metadata": {},
   "source": [
    "__Q:__ Use the cdf() function to answer the question above again and verify you get the same answer."
   ]
  },
  {
   "cell_type": "markdown",
   "metadata": {},
   "source": [
    "__A:__"
   ]
  },
  {
   "cell_type": "code",
   "execution_count": null,
   "metadata": {},
   "outputs": [],
   "source": [
    "norm.cdf()"
   ]
  },
  {
   "cell_type": "markdown",
   "metadata": {},
   "source": [
    "__Q:__ Using our knowledge of the population parameters for our townsfolk's heights, what is the probability of selecting one person at random and their height being 177 cm or less? Calculate this using both of the approaches given above."
   ]
  },
  {
   "cell_type": "markdown",
   "metadata": {},
   "source": [
    "__A:__"
   ]
  },
  {
   "cell_type": "code",
   "execution_count": null,
   "metadata": {},
   "outputs": [],
   "source": []
  },
  {
   "cell_type": "markdown",
   "metadata": {},
   "source": [
    "__Q:__ Turning this question around. Let's say we randomly pick one person and measure their height and find they are 2.00 m tall? How surprised should we be at this result, given what we know about the population distribution? In other words, how likely would it be to obtain a value at least as extreme as this? Express this as a probability."
   ]
  },
  {
   "cell_type": "markdown",
   "metadata": {},
   "source": [
    "__A:__"
   ]
  },
  {
   "cell_type": "code",
   "execution_count": null,
   "metadata": {},
   "outputs": [],
   "source": []
  },
  {
   "cell_type": "markdown",
   "metadata": {},
   "source": [
    "We could calculate this probability by virtue of knowing the population parameters. We were then able to use the known properties of the relevant normal distribution to calculate the probability of observing a value at least as extreme as our test value. We have essentially just performed a z-test (albeit without having prespecified a threshold for our \"level of surprise\")!"
   ]
  },
  {
   "cell_type": "markdown",
   "metadata": {},
   "source": [
    "We're about to come to a pinch, though here. We've said a couple of times that we rarely, if ever, know the true population parameters; we have to estimate them from our sample and we cannot even begin to estimate the standard deviation from a single observation. This is very true and usually we have sample sizes larger than one. This means we can calculate the mean of the sample as our best estimate of the population mean and the standard deviation as our best estimate of the population standard deviation. In other words, we are now coming to deal with the sampling distributions we mentioned above as we are generally concerned with the properties of the sample means we obtain.\n",
    "\n",
    "Above, we highlighted one result from the CLT, whereby the sampling distribution (of the mean) becomes narrower and narrower with the square root of the sample size. We remind ourselves that another result from the CLT is that _even if the underlying population distribution is not normal, the sampling distribution will tend to become normal with sufficiently large sample size_. This is the key driver for us 'requiring' a certain sample size, for example you may frequently see a minimum sample size of 30 stated in many places. In reality this is simply a rule of thumb; if the underlying distribution is approximately normal then your sampling distribution will already be pretty normal, but if the underlying distribution is heavily skewed then you'd want to increase your sample size."
   ]
  },
  {
   "cell_type": "markdown",
   "metadata": {},
   "source": [
    "__Q:__ Let's now start from the position of knowing nothing about the heights of people in our town.\n",
    "* Use our favorite random seed of 47, to randomly sample the heights of 50 townsfolk\n",
    "* Estimate the population mean using np.mean\n",
    "* Estimate the population standard deviation using np.std (remember which denominator to use!)\n",
    "* Calculate the (95%) [margin of error](https://www.statisticshowto.datasciencecentral.com/probability-and-statistics/hypothesis-testing/margin-of-error/#WhatMofE) (use the exact critial z value to 2 decimal places - [look this up](https://www.statisticshowto.datasciencecentral.com/probability-and-statistics/find-critical-values/) or use norm.ppf())\n",
    "* Calculate the 95% Confidence Interval of the mean\n",
    "* Does this interval include the true population mean?"
   ]
  },
  {
   "cell_type": "markdown",
   "metadata": {},
   "source": [
    "__A:__"
   ]
  },
  {
   "cell_type": "code",
   "execution_count": 14,
   "metadata": {},
   "outputs": [],
   "source": [
    "seed(47)\n",
    "# take your sample now\n"
   ]
  },
  {
   "cell_type": "code",
   "execution_count": null,
   "metadata": {},
   "outputs": [],
   "source": []
  },
  {
   "cell_type": "code",
   "execution_count": null,
   "metadata": {},
   "outputs": [],
   "source": []
  },
  {
   "cell_type": "code",
   "execution_count": null,
   "metadata": {},
   "outputs": [],
   "source": []
  },
  {
   "cell_type": "code",
   "execution_count": null,
   "metadata": {},
   "outputs": [],
   "source": []
  },
  {
   "cell_type": "markdown",
   "metadata": {},
   "source": [
    "__Q:__ Above we calculated the confidence interval using the critical z value. What is the problem with this? What requirement, or requirements, are we (strictly) failing?"
   ]
  },
  {
   "cell_type": "markdown",
   "metadata": {},
   "source": [
    "__A:__"
   ]
  },
  {
   "cell_type": "markdown",
   "metadata": {},
   "source": [
    "__Q:__ Calculate the 95% confidence interval for the mean using the _t_ distribution. Is this wider or narrower than that based on the normal distribution above? If you're unsure, you may find this [resource](https://www.statisticshowto.datasciencecentral.com/probability-and-statistics/confidence-interval/) useful. For calculating the critical value, remember how you could calculate this for the normal distribution using norm.ppf()."
   ]
  },
  {
   "cell_type": "markdown",
   "metadata": {},
   "source": [
    "__A:__"
   ]
  },
  {
   "cell_type": "code",
   "execution_count": null,
   "metadata": {},
   "outputs": [],
   "source": []
  },
  {
   "cell_type": "code",
   "execution_count": null,
   "metadata": {},
   "outputs": [],
   "source": []
  },
  {
   "cell_type": "code",
   "execution_count": null,
   "metadata": {},
   "outputs": [],
   "source": []
  },
  {
   "cell_type": "markdown",
   "metadata": {},
   "source": [
    "This is slightly wider than the previous confidence interval. This reflects the greater uncertainty given that we are estimating population parameters from a sample."
   ]
  },
  {
   "cell_type": "markdown",
   "metadata": {},
   "source": [
    "## Learning outcomes"
   ]
  },
  {
   "cell_type": "markdown",
   "metadata": {},
   "source": [
    "Having completed this project notebook, you now have hands-on experience:\n",
    "* sampling and calculating probabilities from a normal distribution\n",
    "* the correct way to estimate the standard deviation of a population (the population parameter) from a sample\n",
    "* what a sampling distribution is and how the Central Limit Theorem applies\n",
    "* how to calculate critical values and confidence intervals"
   ]
  }
 ],
 "metadata": {
  "kernelspec": {
   "display_name": "Python 3",
   "language": "python",
   "name": "python3"
  },
  "language_info": {
   "codemirror_mode": {
    "name": "ipython",
    "version": 3
   },
   "file_extension": ".py",
   "mimetype": "text/x-python",
   "name": "python",
   "nbconvert_exporter": "python",
   "pygments_lexer": "ipython3",
   "version": "3.7.3"
  }
 },
 "nbformat": 4,
 "nbformat_minor": 2
}
